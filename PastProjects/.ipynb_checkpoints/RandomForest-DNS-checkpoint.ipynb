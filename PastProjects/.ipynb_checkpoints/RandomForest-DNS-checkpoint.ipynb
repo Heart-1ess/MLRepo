{
 "cells": [
  {
   "cell_type": "markdown",
   "metadata": {},
   "source": [
    "引入工具库"
   ]
  },
  {
   "cell_type": "code",
   "execution_count": 1,
   "metadata": {},
   "outputs": [],
   "source": [
    "import pandas as pd\n",
    "import numpy as np\n",
    "import math\n",
    "from sklearn import preprocessing\n",
    "from sklearn.ensemble import RandomForestClassifier\n",
    "from sklearn.datasets import load_iris"
   ]
  },
  {
   "cell_type": "markdown",
   "metadata": {},
   "source": [
    "计算信息熵函数"
   ]
  },
  {
   "cell_type": "code",
   "execution_count": 2,
   "metadata": {},
   "outputs": [],
   "source": [
    "def cal_entropy(text):\n",
    "    h = 0.0\n",
    "    sum = 0\n",
    "    letter = [0] * 26\n",
    "    text = text.lower()\n",
    "    for i in range(len(text)):\n",
    "        if text[i].isalpha():\n",
    "            letter[ord(text[i]) - ord('a')] += 1\n",
    "            sum += 1\n",
    "    for i in range(26):\n",
    "        p = 1.0 * letter[i] / sum\n",
    "        if p > 0:\n",
    "            h += -(p * math.log(p, 2))\n",
    "    return h"
   ]
  },
  {
   "cell_type": "markdown",
   "metadata": {},
   "source": [
    "加载数据集"
   ]
  },
  {
   "cell_type": "code",
   "execution_count": 3,
   "metadata": {
    "scrolled": false
   },
   "outputs": [],
   "source": [
    "df = pd.read_csv('dns_train&test.csv')"
   ]
  },
  {
   "cell_type": "markdown",
   "metadata": {},
   "source": [
    "分别计算域名信息熵"
   ]
  },
  {
   "cell_type": "code",
   "execution_count": 5,
   "metadata": {},
   "outputs": [
    {
     "name": "stdout",
     "output_type": "stream",
     "text": [
      "     frame.time_relative           ip.src           ip.dst  \\\n",
      "0               0.000000  192.168.113.129    192.168.113.2   \n",
      "1               1.014907  192.168.113.129    192.168.113.2   \n",
      "2               2.029145  192.168.113.129    192.168.113.2   \n",
      "3               2.057082    192.168.113.2  192.168.113.129   \n",
      "4               2.057309    192.168.113.2  192.168.113.129   \n",
      "..                   ...              ...              ...   \n",
      "193            28.968437    192.168.113.2  192.168.113.128   \n",
      "194            29.486746  192.168.113.128    192.168.113.2   \n",
      "195            29.486867  192.168.113.128    192.168.113.2   \n",
      "196            29.491123    192.168.113.2  192.168.113.128   \n",
      "197            29.491256    192.168.113.2  192.168.113.128   \n",
      "\n",
      "                   dns.qry.name  ip.proto  frame.len  dns.qry.name.len  \\\n",
      "0    477124f2.ns2.heart1ess.xyz        17         86                26   \n",
      "1    477124f2.ns2.heart1ess.xyz        17         86                26   \n",
      "2    477124f2.ns2.heart1ess.xyz        17         86                26   \n",
      "3    477124f2.ns2.heart1ess.xyz        17        102                26   \n",
      "4    477124f2.ns2.heart1ess.xyz        17        102                26   \n",
      "..                          ...       ...        ...               ...   \n",
      "193            aus5.mozilla.org        17        178                16   \n",
      "194           ocsp.digicert.com        17         77                17   \n",
      "195           ocsp.digicert.com        17         77                17   \n",
      "196           ocsp.digicert.com        17        125                17   \n",
      "197           ocsp.digicert.com        17        109                17   \n",
      "\n",
      "     dns.qry.type  dns.qry.name.entropy        Type  \n",
      "0               1              3.324863  DNS-Tunnel  \n",
      "1               1              3.324863  DNS-Tunnel  \n",
      "2               1              3.324863  DNS-Tunnel  \n",
      "3               1              3.324863  DNS-Tunnel  \n",
      "4               1              3.324863  DNS-Tunnel  \n",
      "..            ...                   ...         ...  \n",
      "193            28              3.238901  Normal-DNS  \n",
      "194             1              3.323231  Normal-DNS  \n",
      "195            28              3.323231  Normal-DNS  \n",
      "196             1              3.323231  Normal-DNS  \n",
      "197            28              3.323231  Normal-DNS  \n",
      "\n",
      "[198 rows x 10 columns]\n"
     ]
    }
   ],
   "source": [
    "temp = []\n",
    "for each in df['dns.qry.name']:\n",
    "    temp.append(cal_entropy(each))\n",
    "df['dns.qry.name.entropy'] = temp\n",
    "order = ['frame.time_relative', 'ip.src', 'ip.dst', 'dns.qry.name', 'ip.proto',\n",
    "       'frame.len', 'dns.qry.name.len', 'dns.qry.type', 'dns.qry.name.entropy', 'Type']\n",
    "df = df[order]\n",
    "print(df)"
   ]
  },
  {
   "cell_type": "markdown",
   "metadata": {},
   "source": [
    "切分数据集"
   ]
  },
  {
   "cell_type": "code",
   "execution_count": 6,
   "metadata": {
    "scrolled": true
   },
   "outputs": [
    {
     "data": {
      "text/html": [
       "<div>\n",
       "<style scoped>\n",
       "    .dataframe tbody tr th:only-of-type {\n",
       "        vertical-align: middle;\n",
       "    }\n",
       "\n",
       "    .dataframe tbody tr th {\n",
       "        vertical-align: top;\n",
       "    }\n",
       "\n",
       "    .dataframe thead th {\n",
       "        text-align: right;\n",
       "    }\n",
       "</style>\n",
       "<table border=\"1\" class=\"dataframe\">\n",
       "  <thead>\n",
       "    <tr style=\"text-align: right;\">\n",
       "      <th></th>\n",
       "      <th>frame.time_relative</th>\n",
       "      <th>ip.src</th>\n",
       "      <th>ip.dst</th>\n",
       "      <th>dns.qry.name</th>\n",
       "      <th>ip.proto</th>\n",
       "      <th>frame.len</th>\n",
       "      <th>dns.qry.name.len</th>\n",
       "      <th>dns.qry.type</th>\n",
       "      <th>dns.qry.name.entropy</th>\n",
       "      <th>Type</th>\n",
       "      <th>is_train</th>\n",
       "    </tr>\n",
       "  </thead>\n",
       "  <tbody>\n",
       "    <tr>\n",
       "      <th>0</th>\n",
       "      <td>0.000000</td>\n",
       "      <td>192.168.113.129</td>\n",
       "      <td>192.168.113.2</td>\n",
       "      <td>477124f2.ns2.heart1ess.xyz</td>\n",
       "      <td>17</td>\n",
       "      <td>86</td>\n",
       "      <td>26</td>\n",
       "      <td>1</td>\n",
       "      <td>3.324863</td>\n",
       "      <td>DNS-Tunnel</td>\n",
       "      <td>True</td>\n",
       "    </tr>\n",
       "    <tr>\n",
       "      <th>1</th>\n",
       "      <td>1.014907</td>\n",
       "      <td>192.168.113.129</td>\n",
       "      <td>192.168.113.2</td>\n",
       "      <td>477124f2.ns2.heart1ess.xyz</td>\n",
       "      <td>17</td>\n",
       "      <td>86</td>\n",
       "      <td>26</td>\n",
       "      <td>1</td>\n",
       "      <td>3.324863</td>\n",
       "      <td>DNS-Tunnel</td>\n",
       "      <td>True</td>\n",
       "    </tr>\n",
       "    <tr>\n",
       "      <th>2</th>\n",
       "      <td>2.029145</td>\n",
       "      <td>192.168.113.129</td>\n",
       "      <td>192.168.113.2</td>\n",
       "      <td>477124f2.ns2.heart1ess.xyz</td>\n",
       "      <td>17</td>\n",
       "      <td>86</td>\n",
       "      <td>26</td>\n",
       "      <td>1</td>\n",
       "      <td>3.324863</td>\n",
       "      <td>DNS-Tunnel</td>\n",
       "      <td>False</td>\n",
       "    </tr>\n",
       "    <tr>\n",
       "      <th>3</th>\n",
       "      <td>2.057082</td>\n",
       "      <td>192.168.113.2</td>\n",
       "      <td>192.168.113.129</td>\n",
       "      <td>477124f2.ns2.heart1ess.xyz</td>\n",
       "      <td>17</td>\n",
       "      <td>102</td>\n",
       "      <td>26</td>\n",
       "      <td>1</td>\n",
       "      <td>3.324863</td>\n",
       "      <td>DNS-Tunnel</td>\n",
       "      <td>True</td>\n",
       "    </tr>\n",
       "    <tr>\n",
       "      <th>4</th>\n",
       "      <td>2.057309</td>\n",
       "      <td>192.168.113.2</td>\n",
       "      <td>192.168.113.129</td>\n",
       "      <td>477124f2.ns2.heart1ess.xyz</td>\n",
       "      <td>17</td>\n",
       "      <td>102</td>\n",
       "      <td>26</td>\n",
       "      <td>1</td>\n",
       "      <td>3.324863</td>\n",
       "      <td>DNS-Tunnel</td>\n",
       "      <td>True</td>\n",
       "    </tr>\n",
       "  </tbody>\n",
       "</table>\n",
       "</div>"
      ],
      "text/plain": [
       "   frame.time_relative           ip.src           ip.dst  \\\n",
       "0             0.000000  192.168.113.129    192.168.113.2   \n",
       "1             1.014907  192.168.113.129    192.168.113.2   \n",
       "2             2.029145  192.168.113.129    192.168.113.2   \n",
       "3             2.057082    192.168.113.2  192.168.113.129   \n",
       "4             2.057309    192.168.113.2  192.168.113.129   \n",
       "\n",
       "                 dns.qry.name  ip.proto  frame.len  dns.qry.name.len  \\\n",
       "0  477124f2.ns2.heart1ess.xyz        17         86                26   \n",
       "1  477124f2.ns2.heart1ess.xyz        17         86                26   \n",
       "2  477124f2.ns2.heart1ess.xyz        17         86                26   \n",
       "3  477124f2.ns2.heart1ess.xyz        17        102                26   \n",
       "4  477124f2.ns2.heart1ess.xyz        17        102                26   \n",
       "\n",
       "   dns.qry.type  dns.qry.name.entropy        Type  is_train  \n",
       "0             1              3.324863  DNS-Tunnel      True  \n",
       "1             1              3.324863  DNS-Tunnel      True  \n",
       "2             1              3.324863  DNS-Tunnel     False  \n",
       "3             1              3.324863  DNS-Tunnel      True  \n",
       "4             1              3.324863  DNS-Tunnel      True  "
      ]
     },
     "execution_count": 6,
     "metadata": {},
     "output_type": "execute_result"
    }
   ],
   "source": [
    "df['is_train'] = np.random.uniform(0, 1, len(df)) <= .75\n",
    "df.head()"
   ]
  },
  {
   "cell_type": "code",
   "execution_count": 7,
   "metadata": {},
   "outputs": [],
   "source": [
    "train, test = df[df['is_train']==True], df[df['is_train']==False]"
   ]
  },
  {
   "cell_type": "markdown",
   "metadata": {},
   "source": [
    "选择模型"
   ]
  },
  {
   "cell_type": "code",
   "execution_count": 9,
   "metadata": {},
   "outputs": [
    {
     "name": "stdout",
     "output_type": "stream",
     "text": [
      "[0 0 0 0 0 0 0 0 0 0 0 0 0 0 0 0 0 0 0 0 0 0 0 0 0 0 0 0 0 0 0 0 0 0 0 0 0\n",
      " 0 0 0 0 0 0 0 0 0 0 0 0 0 0 0 0 0 0 0 0 0 0 0 0 0 0 0 0 0 0 0 0 0 0 0 0 0\n",
      " 0 0 0 0 0 0 0 0 0 0 0 0 0 0 0 0 0 0 0 0 0 0 0 0 0 0 0 0 0 0 0 0 0 0 0 0 1\n",
      " 1 1 1 1 1 1 1 1 1 1 1 1 1 1 1 1 1 1 1 1 1 1 1 1 1 1 1 1]\n",
      "Index(['DNS-Tunnel', 'Normal-DNS'], dtype='object')\n"
     ]
    }
   ],
   "source": [
    "features = df.columns[4:9]\n",
    "clf = RandomForestClassifier(n_jobs=2)\n",
    "y, _ = pd.factorize(train['Type'])\n",
    "print(y)\n",
    "print(_)"
   ]
  },
  {
   "cell_type": "markdown",
   "metadata": {},
   "source": [
    "训练模型"
   ]
  },
  {
   "cell_type": "code",
   "execution_count": 10,
   "metadata": {},
   "outputs": [
    {
     "data": {
      "text/plain": [
       "RandomForestClassifier(bootstrap=True, ccp_alpha=0.0, class_weight=None,\n",
       "                       criterion='gini', max_depth=None, max_features='auto',\n",
       "                       max_leaf_nodes=None, max_samples=None,\n",
       "                       min_impurity_decrease=0.0, min_impurity_split=None,\n",
       "                       min_samples_leaf=1, min_samples_split=2,\n",
       "                       min_weight_fraction_leaf=0.0, n_estimators=100, n_jobs=2,\n",
       "                       oob_score=False, random_state=None, verbose=0,\n",
       "                       warm_start=False)"
      ]
     },
     "execution_count": 10,
     "metadata": {},
     "output_type": "execute_result"
    }
   ],
   "source": [
    "clf.fit(train[features], y)"
   ]
  },
  {
   "cell_type": "markdown",
   "metadata": {},
   "source": [
    "模型预测"
   ]
  },
  {
   "cell_type": "code",
   "execution_count": 11,
   "metadata": {},
   "outputs": [
    {
     "data": {
      "text/html": [
       "<div>\n",
       "<style scoped>\n",
       "    .dataframe tbody tr th:only-of-type {\n",
       "        vertical-align: middle;\n",
       "    }\n",
       "\n",
       "    .dataframe tbody tr th {\n",
       "        vertical-align: top;\n",
       "    }\n",
       "\n",
       "    .dataframe thead th {\n",
       "        text-align: right;\n",
       "    }\n",
       "</style>\n",
       "<table border=\"1\" class=\"dataframe\">\n",
       "  <thead>\n",
       "    <tr style=\"text-align: right;\">\n",
       "      <th>preds</th>\n",
       "      <th>DNS-Tunnel</th>\n",
       "      <th>Normal-DNS</th>\n",
       "    </tr>\n",
       "    <tr>\n",
       "      <th>actual</th>\n",
       "      <th></th>\n",
       "      <th></th>\n",
       "    </tr>\n",
       "  </thead>\n",
       "  <tbody>\n",
       "    <tr>\n",
       "      <th>DNS-Tunnel</th>\n",
       "      <td>48</td>\n",
       "      <td>0</td>\n",
       "    </tr>\n",
       "    <tr>\n",
       "      <th>Normal-DNS</th>\n",
       "      <td>0</td>\n",
       "      <td>11</td>\n",
       "    </tr>\n",
       "  </tbody>\n",
       "</table>\n",
       "</div>"
      ],
      "text/plain": [
       "preds       DNS-Tunnel  Normal-DNS\n",
       "actual                            \n",
       "DNS-Tunnel          48           0\n",
       "Normal-DNS           0          11"
      ]
     },
     "execution_count": 11,
     "metadata": {},
     "output_type": "execute_result"
    }
   ],
   "source": [
    "preds = _[clf.predict(test[features])]\n",
    "pd.crosstab(test['Type'], preds, rownames=['actual'], colnames=['preds'])"
   ]
  },
  {
   "cell_type": "code",
   "execution_count": null,
   "metadata": {},
   "outputs": [],
   "source": []
  }
 ],
 "metadata": {
  "kernelspec": {
   "display_name": "Python 3",
   "language": "python",
   "name": "python3"
  },
  "language_info": {
   "codemirror_mode": {
    "name": "ipython",
    "version": 3
   },
   "file_extension": ".py",
   "mimetype": "text/x-python",
   "name": "python",
   "nbconvert_exporter": "python",
   "pygments_lexer": "ipython3",
   "version": "3.7.6"
  }
 },
 "nbformat": 4,
 "nbformat_minor": 4
}
