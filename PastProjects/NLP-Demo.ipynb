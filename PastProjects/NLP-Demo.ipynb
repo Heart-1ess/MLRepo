{
 "cells": [
  {
   "cell_type": "code",
   "execution_count": 3,
   "id": "2a6557c8",
   "metadata": {},
   "outputs": [],
   "source": [
    "from transformers import BertModel, BertTokenizer\n",
    "import torch\n",
    "import numpy as np\n",
    "from sklearn.metrics.pairwise import cosine_similarity"
   ]
  },
  {
   "cell_type": "code",
   "execution_count": 5,
   "id": "f3cf47b7",
   "metadata": {},
   "outputs": [
    {
     "data": {
      "application/vnd.jupyter.widget-view+json": {
       "model_id": "b5319653456248de844068e521f15315",
       "version_major": 2,
       "version_minor": 0
      },
      "text/plain": [
       "Downloading (…)solve/main/vocab.txt:   0%|          | 0.00/232k [00:00<?, ?B/s]"
      ]
     },
     "metadata": {},
     "output_type": "display_data"
    },
    {
     "name": "stderr",
     "output_type": "stream",
     "text": [
      "C:\\Users\\86136\\anaconda3\\lib\\site-packages\\huggingface_hub\\file_download.py:133: UserWarning: `huggingface_hub` cache-system uses symlinks by default to efficiently store duplicated files but your machine does not support them in C:\\Users\\86136\\.cache\\huggingface\\hub. Caching files will still work but in a degraded version that might require more space on your disk. This warning can be disabled by setting the `HF_HUB_DISABLE_SYMLINKS_WARNING` environment variable. For more details, see https://huggingface.co/docs/huggingface_hub/how-to-cache#limitations.\n",
      "To support symlinks on Windows, you either need to activate Developer Mode or to run Python as an administrator. In order to see activate developer mode, see this article: https://docs.microsoft.com/en-us/windows/apps/get-started/enable-your-device-for-development\n",
      "  warnings.warn(message)\n"
     ]
    },
    {
     "data": {
      "application/vnd.jupyter.widget-view+json": {
       "model_id": "2b252b1e1cb641a1b5132776c81a24ad",
       "version_major": 2,
       "version_minor": 0
      },
      "text/plain": [
       "Downloading (…)okenizer_config.json:   0%|          | 0.00/28.0 [00:00<?, ?B/s]"
      ]
     },
     "metadata": {},
     "output_type": "display_data"
    },
    {
     "data": {
      "application/vnd.jupyter.widget-view+json": {
       "model_id": "1ee03db850a448e4abeac1f956e6a668",
       "version_major": 2,
       "version_minor": 0
      },
      "text/plain": [
       "Downloading (…)lve/main/config.json:   0%|          | 0.00/570 [00:00<?, ?B/s]"
      ]
     },
     "metadata": {},
     "output_type": "display_data"
    },
    {
     "data": {
      "application/vnd.jupyter.widget-view+json": {
       "model_id": "1eebba27cb9b47f981e48df42534f95a",
       "version_major": 2,
       "version_minor": 0
      },
      "text/plain": [
       "Downloading pytorch_model.bin:   0%|          | 0.00/440M [00:00<?, ?B/s]"
      ]
     },
     "metadata": {},
     "output_type": "display_data"
    },
    {
     "name": "stderr",
     "output_type": "stream",
     "text": [
      "Some weights of the model checkpoint at bert-base-uncased were not used when initializing BertModel: ['cls.predictions.transform.LayerNorm.bias', 'cls.predictions.transform.LayerNorm.weight', 'cls.seq_relationship.bias', 'cls.predictions.transform.dense.bias', 'cls.seq_relationship.weight', 'cls.predictions.decoder.weight', 'cls.predictions.bias', 'cls.predictions.transform.dense.weight']\n",
      "- This IS expected if you are initializing BertModel from the checkpoint of a model trained on another task or with another architecture (e.g. initializing a BertForSequenceClassification model from a BertForPreTraining model).\n",
      "- This IS NOT expected if you are initializing BertModel from the checkpoint of a model that you expect to be exactly identical (initializing a BertForSequenceClassification model from a BertForSequenceClassification model).\n"
     ]
    }
   ],
   "source": [
    "# 加载预训练的BERT模型和分词器\n",
    "model_name = \"bert-base-uncased\"\n",
    "tokenizer = BertTokenizer.from_pretrained(model_name)\n",
    "bert_model = BertModel.from_pretrained(model_name)\n"
   ]
  },
  {
   "cell_type": "code",
   "execution_count": 6,
   "id": "fdf3147d",
   "metadata": {},
   "outputs": [],
   "source": [
    "# 生成段落向量\n",
    "def generate_paragraph_vector(paragraph, model, tokenizer):\n",
    "    inputs = tokenizer(paragraph, return_tensors=\"pt\", truncation=True, padding=True, max_length=512)\n",
    "    outputs = model(**inputs)\n",
    "    paragraph_vector = outputs.last_hidden_state.mean(dim=1).detach().numpy()\n",
    "    return paragraph_vector"
   ]
  },
  {
   "cell_type": "code",
   "execution_count": 7,
   "id": "08af3b6c",
   "metadata": {},
   "outputs": [],
   "source": [
    "# 计算语义相似度\n",
    "def calculate_similarity(query_vector, paragraph_vector):\n",
    "    return cosine_similarity(query_vector, paragraph_vector)[0][0]"
   ]
  },
  {
   "cell_type": "code",
   "execution_count": 8,
   "id": "1b67e0d2",
   "metadata": {},
   "outputs": [],
   "source": [
    "# 召回筛选\n",
    "def retrieve_paragraphs(query, documents, model, tokenizer, threshold=0.8):\n",
    "    query_vector = generate_paragraph_vector(query, model, tokenizer)\n",
    "    \n",
    "    relevant_paragraphs = []\n",
    "    for doc_id, document in enumerate(documents):\n",
    "        for para_id, paragraph in enumerate(document[\"paragraphs\"]):\n",
    "            para_vector = generate_paragraph_vector(paragraph, model, tokenizer)\n",
    "            similarity = calculate_similarity(query_vector, para_vector)\n",
    "            if similarity >= threshold:\n",
    "                relevant_paragraphs.append({\"doc_id\": doc_id, \"para_id\": para_id, \"paragraph\": paragraph, \"similarity\": similarity})\n",
    "                \n",
    "    relevant_paragraphs.sort(key=lambda x: x[\"similarity\"], reverse=True)\n",
    "    return relevant_paragraphs\n"
   ]
  },
  {
   "cell_type": "code",
   "execution_count": 9,
   "id": "f01a3f21",
   "metadata": {},
   "outputs": [],
   "source": [
    "# 用户输入\n",
    "query = \"请找出和石油、故障、运维相关的段落。\""
   ]
  },
  {
   "cell_type": "code",
   "execution_count": 10,
   "id": "05c83082",
   "metadata": {},
   "outputs": [],
   "source": [
    "# 示例文档\n",
    "documents = [\n",
    "    {\n",
    "        \"title\": \"Document 1\",\n",
    "        \"paragraphs\": [\n",
    "            \"石油是一种重要的能源，广泛用于各个行业。\",\n",
    "            \"石油开采过程中可能出现的故障会导致生产中断，需要及时进行运维。\",\n",
    "            \"运维团队需要定期检查设备，确保生产顺利进行。\"\n",
    "        ]\n",
    "    },\n",
    "    {\n",
    "        \"title\": \"Document 2\",\n",
    "        \"paragraphs\": [\n",
    "            \"故障诊断是运维过程中的重要环节，可以及时发现并解决问题。\",\n",
    "            \"石油行业的运维管理需要高度重视安全和环保。\",\n",
    "            \"新能源的发展对石油产业产生了一定的影响。\"\n",
    "        ]\n",
    "    }\n",
    "]"
   ]
  },
  {
   "cell_type": "code",
   "execution_count": 11,
   "id": "7da113df",
   "metadata": {},
   "outputs": [],
   "source": [
    "# 执行召回筛选\n",
    "relevant_paragraphs = retrieve_paragraphs(query, documents, bert_model, tokenizer, threshold=0.8)"
   ]
  },
  {
   "cell_type": "code",
   "execution_count": 12,
   "id": "4ccc0b88",
   "metadata": {},
   "outputs": [
    {
     "name": "stdout",
     "output_type": "stream",
     "text": [
      "Relevant paragraphs:\n",
      "Document 0, Paragraph 1: 石油开采过程中可能出现的故障会导致生产中断，需要及时进行运维。 (Similarity: 0.9557)\n",
      "Document 1, Paragraph 2: 新能源的发展对石油产业产生了一定的影响。 (Similarity: 0.9471)\n",
      "Document 0, Paragraph 0: 石油是一种重要的能源，广泛用于各个行业。 (Similarity: 0.9443)\n",
      "Document 1, Paragraph 1: 石油行业的运维管理需要高度重视安全和环保。 (Similarity: 0.9407)\n",
      "Document 0, Paragraph 2: 运维团队需要定期检查设备，确保生产顺利进行。 (Similarity: 0.9380)\n",
      "Document 1, Paragraph 0: 故障诊断是运维过程中的重要环节，可以及时发现并解决问题。 (Similarity: 0.9136)\n"
     ]
    }
   ],
   "source": [
    "# 输出结果\n",
    "print(\"Relevant paragraphs:\")\n",
    "for para in relevant_paragraphs:\n",
    "    print(f\"Document {para['doc_id']}, Paragraph {para['para_id']}: {para['paragraph']} (Similarity: {para['similarity']:.4f})\")"
   ]
  },
  {
   "cell_type": "code",
   "execution_count": null,
   "id": "4ed32a95",
   "metadata": {},
   "outputs": [],
   "source": []
  }
 ],
 "metadata": {
  "kernelspec": {
   "display_name": "Python 3 (ipykernel)",
   "language": "python",
   "name": "python3"
  },
  "language_info": {
   "codemirror_mode": {
    "name": "ipython",
    "version": 3
   },
   "file_extension": ".py",
   "mimetype": "text/x-python",
   "name": "python",
   "nbconvert_exporter": "python",
   "pygments_lexer": "ipython3",
   "version": "3.9.13"
  }
 },
 "nbformat": 4,
 "nbformat_minor": 5
}
