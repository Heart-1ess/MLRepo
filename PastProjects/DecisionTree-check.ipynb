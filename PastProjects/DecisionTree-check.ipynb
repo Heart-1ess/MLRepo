{
 "cells": [
  {
   "cell_type": "markdown",
   "metadata": {},
   "source": [
    "导入NSL KDD数据作为评估决策树模型准确率的标准"
   ]
  },
  {
   "cell_type": "markdown",
   "metadata": {},
   "source": [
    "获取数据"
   ]
  },
  {
   "cell_type": "code",
   "execution_count": 12,
   "metadata": {},
   "outputs": [],
   "source": [
    "import pandas as pd\n",
    "data = pd.read_csv(\"KDDTrain+.csv\")\n",
    "#data"
   ]
  },
  {
   "cell_type": "markdown",
   "metadata": {},
   "source": [
    "筛选特征值和目标值"
   ]
  },
  {
   "cell_type": "code",
   "execution_count": 3,
   "metadata": {},
   "outputs": [],
   "source": [
    "order = [\"src_bytes\",\"dst_host_srv_rerror_rate\",\"dst_bytes\",\"dst_host_same_src_port_rate\",\"dst_host_srv_count\",\"dst_host_rerror_rate\",\"logged_in\"]\n",
    "x = data[order]\n",
    "y = data[\"class\"]"
   ]
  },
  {
   "cell_type": "markdown",
   "metadata": {},
   "source": [
    "数据预处理无量纲化（标准化）"
   ]
  },
  {
   "cell_type": "code",
   "execution_count": 4,
   "metadata": {},
   "outputs": [],
   "source": [
    "from sklearn.preprocessing import StandardScaler\n",
    "\n",
    "transfer = StandardScaler()\n",
    "data_new = transfer.fit_transform(x)"
   ]
  },
  {
   "cell_type": "markdown",
   "metadata": {},
   "source": [
    "2.数据处理——缺失值处理\n",
    "转换成字典"
   ]
  },
  {
   "cell_type": "code",
   "execution_count": 5,
   "metadata": {},
   "outputs": [],
   "source": [
    "x = x.to_dict(orient=\"records\")"
   ]
  },
  {
   "cell_type": "markdown",
   "metadata": {},
   "source": [
    "字典特征抽取"
   ]
  },
  {
   "cell_type": "code",
   "execution_count": 6,
   "metadata": {},
   "outputs": [],
   "source": [
    "from sklearn.feature_extraction import DictVectorizer\n",
    "from sklearn.tree import DecisionTreeClassifier,export_graphviz"
   ]
  },
  {
   "cell_type": "code",
   "execution_count": 7,
   "metadata": {},
   "outputs": [],
   "source": [
    "transfer = DictVectorizer()\n",
    "x = transfer.fit_transform(x)"
   ]
  },
  {
   "cell_type": "markdown",
   "metadata": {},
   "source": [
    "导入模型"
   ]
  },
  {
   "cell_type": "code",
   "execution_count": 9,
   "metadata": {},
   "outputs": [],
   "source": [
    "from sklearn.externals import joblib\n",
    "estimator = joblib.load('DecisionTree.pkl')"
   ]
  },
  {
   "cell_type": "markdown",
   "metadata": {},
   "source": [
    "结果预测"
   ]
  },
  {
   "cell_type": "code",
   "execution_count": 10,
   "metadata": {},
   "outputs": [
    {
     "name": "stdout",
     "output_type": "stream",
     "text": [
      "预测流量结果为：\n",
      " ['normal.' 'normal.' 'neptune.' ... 'neptune.' 'neptune.' 'neptune.']\n",
      "直接比对真实值和预测值:\n",
      " 0        True\n",
      "1        True\n",
      "2        True\n",
      "3        True\n",
      "4        True\n",
      "         ... \n",
      "25187    True\n",
      "25188    True\n",
      "25189    True\n",
      "25190    True\n",
      "25191    True\n",
      "Name: class, Length: 25192, dtype: bool\n",
      "准确率为:\n",
      " 0.9915052397586536\n"
     ]
    }
   ],
   "source": [
    "y_predict = estimator.predict(x)\n",
    "print(\"预测流量结果为：\\n\", y_predict)\n",
    "print(\"直接比对真实值和预测值:\\n\",y == y_predict)\n",
    "score = estimator.score(x,y)\n",
    "print(\"准确率为:\\n\",score)"
   ]
  },
  {
   "cell_type": "markdown",
   "metadata": {},
   "source": [
    "对于待测数据，生成溯源所需数据并导出为.json文件"
   ]
  },
  {
   "cell_type": "code",
   "execution_count": 14,
   "metadata": {},
   "outputs": [],
   "source": [
    "import json\n",
    "def result_to_json(y_predict):\n",
    "    out = []\n",
    "    for i in range(0, len(y_predict)):\n",
    "        if y_predict[i] != \"normal.\":\n",
    "            handle = {}\n",
    "            handle[\"type\"] = \"networkflow\"\n",
    "            handle[\"time\"] = str(data[i:i+1][\"time\"].values[0])\n",
    "            handle[\"ipsrc\"] = data[i:i+1][\"src_ip\"].values[0]\n",
    "            handle[\"ipdst\"] = data[i:i+1][\"dst_ip\"].values[0]\n",
    "            handle[\"attack_type\"] = y_predict[i]\n",
    "            handle[\"info\"] = \"\"\n",
    "            out.append(json.dumps(handle))\n",
    "    return out"
   ]
  },
  {
   "cell_type": "code",
   "execution_count": 15,
   "metadata": {},
   "outputs": [],
   "source": [
    "res = result_to_json(y_predict)\n",
    "with open(\"abnormal-flows.json\",\"w+\") as f:\n",
    "    for each in res:\n",
    "        f.write(each)\n",
    "        f.write(\"\\n\")\n",
    "    f.close()"
   ]
  },
  {
   "cell_type": "code",
   "execution_count": null,
   "metadata": {},
   "outputs": [],
   "source": []
  }
 ],
 "metadata": {
  "kernelspec": {
   "display_name": "Python 3",
   "language": "python",
   "name": "python3"
  },
  "language_info": {
   "codemirror_mode": {
    "name": "ipython",
    "version": 3
   },
   "file_extension": ".py",
   "mimetype": "text/x-python",
   "name": "python",
   "nbconvert_exporter": "python",
   "pygments_lexer": "ipython3",
   "version": "3.7.6"
  }
 },
 "nbformat": 4,
 "nbformat_minor": 4
}
