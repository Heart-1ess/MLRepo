{
 "cells": [
  {
   "cell_type": "markdown",
   "id": "7beed33f",
   "metadata": {},
   "source": [
    "    实现功能：文档解析\n",
    "    输入：Microsoft Word、PDF\n",
    "    输出：文档目录、文档内图片（PNG格式）、文档表格（采用pandas的dataFrame数据类型表示）、可返回的文档版面数据"
   ]
  },
  {
   "cell_type": "code",
   "execution_count": 1,
   "id": "74e63b4d",
   "metadata": {},
   "outputs": [],
   "source": [
    "import pdfplumber\n",
    "import pdfminer.high_level\n",
    "import fitz\n",
    "import docx\n",
    "import pandas as pd\n",
    "import os, re"
   ]
  },
  {
   "cell_type": "markdown",
   "id": "6a194d4c",
   "metadata": {},
   "source": [
    "    功能：从pdf中提取表格\n",
    "    输入：pdf文件路径pdf_path（\"example.pdf\"）\n",
    "    输出：对于每一个表输出一个pandas的dataFrame类型，采用print方式\n",
    "    返回值：无"
   ]
  },
  {
   "cell_type": "code",
   "execution_count": 2,
   "id": "36016253",
   "metadata": {},
   "outputs": [],
   "source": [
    "def pdf_extract_tables(pdf_path):\n",
    "    \n",
    "    #open pdf with pdfplumber\n",
    "    with pdfplumber.open(pdf_path) as pdf:\n",
    "        for page in pdf.pages:\n",
    "            for table in page.extract_tables():\n",
    "                \n",
    "                #for every table extract data to dataFrame\n",
    "                df = pd.DataFrame(table[1:], columns=table[0])\n",
    "                print(df)\n",
    "        pdf.close()\n",
    "\n",
    "#for debugging\n",
    "#pdf_extract_tables(\"demo.pdf\")"
   ]
  },
  {
   "cell_type": "markdown",
   "id": "3eb13a66",
   "metadata": {},
   "source": [
    "    功能：从pdf中提取图片（从pdf文件中提取所有图片，并将它们保存为png文件）\n",
    "    输入：pdf文件路径pdf_path（\"example.pdf\"），图片保存地址result_path\n",
    "    输出：对于每一个图片以png格式直接输出到result_path\n",
    "    返回值：无"
   ]
  },
  {
   "cell_type": "code",
   "execution_count": 3,
   "id": "0d49b02c",
   "metadata": {},
   "outputs": [],
   "source": [
    "def pdf_extract_images(pdf_path, result_path):\n",
    "    \n",
    "    #open pdf with fitz\n",
    "    doc = fitz.open(pdf_path)\n",
    "    \n",
    "    #make sure the result path exists\n",
    "    if not os.path.exists(result_path):\n",
    "        os.makedirs(result_path)\n",
    "        \n",
    "    #extract the images\n",
    "    for page in doc:\n",
    "        image_list = page.get_images()\n",
    "        for image_index, img in enumerate(image_list):\n",
    "            xref = img[0]\n",
    "            pix = fitz.Pixmap(doc, xref)\n",
    "            \n",
    "            #if the colors obey the RGB format\n",
    "            if pix.n < 5:\n",
    "                pix.save(result_path + \"/p%s-%s.png\" % (page.number, xref))\n",
    "                \n",
    "            #else transform to RGB format\n",
    "            else:\n",
    "                pix1 = fitz.Pixmap(fitz.csRGB, pix)\n",
    "                pix1.save(result_path + \"/p%s-%s.png\" % (page.number, xref))\n",
    "                pix1 = None\n",
    "            pix = None\n",
    "\n",
    "#for debugging\n",
    "#pdf_extract_images(\"demo.pdf\", \"demo_pdf_images\")"
   ]
  },
  {
   "cell_type": "markdown",
   "id": "3b323cae",
   "metadata": {},
   "source": [
    "    功能：从pdf中提取目录并输出\n",
    "    输入：pdf文件路径pdf_path（\"example.pdf\"）\n",
    "    输出：一个list对象，包括每个章节的标题\n",
    "    返回值：无"
   ]
  },
  {
   "cell_type": "code",
   "execution_count": 59,
   "id": "f2d9f8a4",
   "metadata": {},
   "outputs": [],
   "source": [
    "from pdfminer.high_level import extract_text\n",
    "from pdfminer.pdfparser import PDFParser\n",
    "from pdfminer.pdfdocument import PDFDocument\n",
    "\n",
    "def pdf_get_toc(pdf_path):\n",
    "\n",
    "    #open pdf file and new a PDFParser object\n",
    "    fp = open(pdf_path, 'rb')\n",
    "    parser = PDFParser(fp)\n",
    "    document = PDFDocument(parser)\n",
    "    \n",
    "    #get outlines\n",
    "    outlines = document.get_outlines()\n",
    "    result = []\n",
    "    \n",
    "    #append title in result list\n",
    "    for (level,title,dest,a,se) in outlines:\n",
    "        result.append(title)\n",
    "    print(result)\n",
    "\n",
    "#for debugging\n",
    "#pdf_get_toc(\"demo.pdf\")"
   ]
  },
  {
   "cell_type": "markdown",
   "id": "29f569c4",
   "metadata": {},
   "source": [
    "    功能：从pdf中提取正文并输出\n",
    "    输入：pdf文件路径pdf_path（\"example.pdf\"）\n",
    "    输出：输出正文内容\n",
    "    返回值：无"
   ]
  },
  {
   "cell_type": "code",
   "execution_count": 5,
   "id": "7e44bb83",
   "metadata": {},
   "outputs": [],
   "source": [
    "def get_pdf_text(pdf_path):\n",
    "    \n",
    "    #extract the plaintext\n",
    "    text = pdfminer.high_level.extract_text(pdf_path)\n",
    "    print(text)\n",
    "\n",
    "#for debugging\n",
    "#get_pdf_text(\"demo.pdf\")"
   ]
  },
  {
   "cell_type": "markdown",
   "id": "de1f208f",
   "metadata": {},
   "source": [
    "    功能：从Microsoft Word中提取表格\n",
    "    输入：Microsoft Word文件路径doc_path（\"example.docx\"）\n",
    "    输出：对于每一个表输出一个pandas的dataFrame类型，采用print方式\n",
    "    返回值：无"
   ]
  },
  {
   "cell_type": "code",
   "execution_count": 11,
   "id": "0c93bfb1",
   "metadata": {},
   "outputs": [],
   "source": [
    "def docx_extract_tables(doc_path):\n",
    "    \n",
    "    #open the document and new a document object to handle it\n",
    "    document = docx.Document(doc_path)\n",
    "    result = []\n",
    "    \n",
    "    #transform the table to a list\n",
    "    for tb in document.tables:\n",
    "        for i, row in enumerate(tb.rows):\n",
    "            temp = []\n",
    "            for j, cell in enumerate(row.cells):\n",
    "                text = ''\n",
    "                for p in cell.paragraphs:\n",
    "                    text += p.text\n",
    "                temp.append(text)\n",
    "            result.append(temp)\n",
    "        \n",
    "        #use a dataFrame object to handle the result\n",
    "        df = pd.DataFrame(result[1:], columns=result[0])\n",
    "        print(df)\n",
    "\n",
    "#for debugging\n",
    "#docx_extract_tables(\"demo.docx\")"
   ]
  },
  {
   "cell_type": "markdown",
   "id": "377fe70b",
   "metadata": {},
   "source": [
    "    功能：从Microsoft Word中提取图片（从docx文件中提取所有图片，并将它们保存为PNG文件）\n",
    "    输入：Microsoft Word文件路径doc_path（\"example.docx\"）\n",
    "    输出：对于每一个图片以png格式直接输出到指定路径result_path\n",
    "    返回值：无"
   ]
  },
  {
   "cell_type": "code",
   "execution_count": 12,
   "id": "7ebddd2d",
   "metadata": {},
   "outputs": [],
   "source": [
    "def docx_extract_images(word_path, result_path):\n",
    "    \n",
    "    #create a document object to handle the doc file\n",
    "    doc = docx.Document(word_path)\n",
    "    \n",
    "    #extract the rels\n",
    "    dict_rel = doc.part._rels\n",
    "    for rel in dict_rel:\n",
    "        rel = dict_rel[rel]\n",
    "        if \"image\" in rel.target_ref:\n",
    "            \n",
    "            #make sure the result path exists\n",
    "            if not os.path.exists(result_path):\n",
    "                os.makedirs(result_path)\n",
    "                \n",
    "            #spawn the image name\n",
    "            img_name = re.findall(\"/(.*)\", rel.target_ref)[0]\n",
    "            word_name = os.path.splitext(word_path)[0]\n",
    "            if os.sep in word_name:\n",
    "                new_name = word_name.split('\\\\')[-1]\n",
    "            else:\n",
    "                new_name = word_name.split('/')[-1]\n",
    "            img_name = f'{new_name}-'+f'{img_name}'\n",
    "            \n",
    "            #create the image file and write in the content\n",
    "            with open(f'{result_path}/{img_name}', \"wb\") as f:\n",
    "                f.write(rel.target_part.blob)\n",
    "\n",
    "#for debugging\n",
    "#docx_extract_images(\"demo.docx\", \"demo_docx_images\")"
   ]
  },
  {
   "cell_type": "markdown",
   "id": "c6719242",
   "metadata": {},
   "source": [
    "    功能：从Microsoft Word中提取目录并输出\n",
    "    输入：Microsoft Word文件路径doc_path（\"example.docx\"）\n",
    "    输出：一个list对象，包括每个章节的标题与等级\n",
    "    返回值：无"
   ]
  },
  {
   "cell_type": "code",
   "execution_count": 51,
   "id": "9b56e5df",
   "metadata": {},
   "outputs": [
    {
     "name": "stdout",
     "output_type": "stream",
     "text": [
      "1 我不知道是什么……\n",
      "2 我也不知道是什么……\n",
      "2 我管他是什么……\n",
      "1 这是什么……\n",
      "1 这是一张图……\n",
      "1 这是一个表……\n",
      "1 没了……\n"
     ]
    }
   ],
   "source": [
    "from docx import Document\n",
    "from docx.shared import Cm\n",
    "\n",
    "def docx_extract_toc(doc_path):\n",
    "    \n",
    "    #create a document object to handle the doc\n",
    "    document = Document(doc_path)\n",
    "    result = []\n",
    "    \n",
    "    #extract the toc with the label 'Heading'\n",
    "    for paragraph in document.paragraphs:    \n",
    "        if paragraph.style.name.startswith('Heading'):\n",
    "            print(paragraph.style.name.split(' ')[1] + ' ' + paragraph.text + '……')\n",
    "            \n",
    "#for debugging\n",
    "docx_extract_toc(\"demo.docx\")"
   ]
  },
  {
   "cell_type": "markdown",
   "id": "db43e579",
   "metadata": {},
   "source": [
    "    功能：从Microsoft Word中提取正文并输出\n",
    "    输入：Microsoft Word文件路径doc_path（\"example.docx\"）\n",
    "    输出：输出正文内容\n",
    "    返回值：无"
   ]
  },
  {
   "cell_type": "code",
   "execution_count": 6,
   "id": "337765f6",
   "metadata": {},
   "outputs": [],
   "source": [
    "from docx import Document\n",
    "\n",
    "def docx_extract_text(doc_path):\n",
    "    \n",
    "    #extract the plaintext\n",
    "    document = Document(doc_path)\n",
    "    result = []\n",
    "    for paragraph in document.paragraphs:\n",
    "        result.append(paragraph.text)\n",
    "    print(result)\n",
    "\n",
    "#for debugging\n",
    "#docx_extract_text(\"demo.docx\")"
   ]
  }
 ],
 "metadata": {
  "kernelspec": {
   "display_name": "Python 3 (ipykernel)",
   "language": "python",
   "name": "python3"
  },
  "language_info": {
   "codemirror_mode": {
    "name": "ipython",
    "version": 3
   },
   "file_extension": ".py",
   "mimetype": "text/x-python",
   "name": "python",
   "nbconvert_exporter": "python",
   "pygments_lexer": "ipython3",
   "version": "3.9.13"
  }
 },
 "nbformat": 4,
 "nbformat_minor": 5
}
