{
 "cells": [
  {
   "cell_type": "markdown",
   "id": "4de61a32",
   "metadata": {},
   "source": [
    "目标：KNN算法计算鸢尾花数据集并分类\n",
    "\n",
    "流程：\n",
    "1. 导入鸢尾花数据集\n",
    "2. 分割训练集与测试集\n",
    "3. 进行数据标准化\n",
    "4. 模型训练与预测\n",
    "5. 模型选择与调优"
   ]
  },
  {
   "cell_type": "code",
   "execution_count": 1,
   "id": "b421142f",
   "metadata": {},
   "outputs": [],
   "source": [
    "import pandas as pd\n",
    "import numpy as np\n",
    "\n",
    "from sklearn.datasets import load_iris"
   ]
  },
  {
   "cell_type": "markdown",
   "id": "dfd7b5a2",
   "metadata": {},
   "source": [
    "导入数据集"
   ]
  },
  {
   "cell_type": "code",
   "execution_count": 6,
   "id": "f6479ecc",
   "metadata": {},
   "outputs": [],
   "source": [
    "iris = load_iris()\n",
    "df = pd.DataFrame(iris.data, columns=iris.feature_names)"
   ]
  },
  {
   "cell_type": "markdown",
   "id": "eae00ec9",
   "metadata": {},
   "source": [
    "分割测试集与训练集"
   ]
  },
  {
   "cell_type": "code",
   "execution_count": 10,
   "id": "7105f9c6",
   "metadata": {},
   "outputs": [],
   "source": [
    "from sklearn.model_selection import train_test_split\n",
    "\n",
    "x_train, x_test, y_train, y_test = train_test_split(iris.data, iris.target, random_state=30)"
   ]
  },
  {
   "cell_type": "markdown",
   "id": "3624ec59",
   "metadata": {},
   "source": [
    "数据标准化"
   ]
  },
  {
   "cell_type": "code",
   "execution_count": 19,
   "id": "f356d2ef",
   "metadata": {},
   "outputs": [],
   "source": [
    "from sklearn.preprocessing import StandardScaler\n",
    "\n",
    "transfer = StandardScaler()\n",
    "x_train = transfer.fit_transform(x_train)\n",
    "x_test = transfer.transform(x_test)"
   ]
  },
  {
   "cell_type": "markdown",
   "id": "f12ed987",
   "metadata": {},
   "source": [
    "模型训练与预测"
   ]
  },
  {
   "cell_type": "code",
   "execution_count": 28,
   "id": "13b94269",
   "metadata": {},
   "outputs": [
    {
     "name": "stdout",
     "output_type": "stream",
     "text": [
      "准确率为:\n",
      " 0.9736842105263158\n"
     ]
    },
    {
     "name": "stderr",
     "output_type": "stream",
     "text": [
      "C:\\Users\\86136\\anaconda3\\lib\\site-packages\\sklearn\\neighbors\\_classification.py:228: FutureWarning: Unlike other reduction functions (e.g. `skew`, `kurtosis`), the default behavior of `mode` typically preserves the axis it acts along. In SciPy 1.11.0, this behavior will change: the default value of `keepdims` will become False, the `axis` over which the statistic is taken will be eliminated, and the value None will no longer be accepted. Set `keepdims` to True or False to avoid this warning.\n",
      "  mode, _ = stats.mode(_y[neigh_ind, k], axis=1)\n"
     ]
    }
   ],
   "source": [
    "from sklearn.neighbors import KNeighborsClassifier\n",
    "\n",
    "estimator = KNeighborsClassifier(n_neighbors=4)\n",
    "estimator.fit(x_train, y_train)\n",
    "\n",
    "score = estimator.score(x_test, y_test)\n",
    "print(\"准确率为:\\n\", score)"
   ]
  },
  {
   "cell_type": "code",
   "execution_count": null,
   "id": "ad1bde6e",
   "metadata": {},
   "outputs": [],
   "source": []
  }
 ],
 "metadata": {
  "kernelspec": {
   "display_name": "Python 3 (ipykernel)",
   "language": "python",
   "name": "python3"
  },
  "language_info": {
   "codemirror_mode": {
    "name": "ipython",
    "version": 3
   },
   "file_extension": ".py",
   "mimetype": "text/x-python",
   "name": "python",
   "nbconvert_exporter": "python",
   "pygments_lexer": "ipython3",
   "version": "3.9.13"
  }
 },
 "nbformat": 4,
 "nbformat_minor": 5
}
