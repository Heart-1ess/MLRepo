{
 "cells": [
  {
   "cell_type": "markdown",
   "id": "4de61a32",
   "metadata": {},
   "source": [
    "目标：KNN算法计算鸢尾花数据集并分类\n",
    "\n",
    "流程：\n",
    "1. 导入鸢尾花数据集\n",
    "2. 分割训练集与测试集\n",
    "3. 进行数据标准化\n",
    "4. 模型训练与预测\n",
    "5. 模型选择与调优"
   ]
  },
  {
   "cell_type": "code",
   "execution_count": 64,
   "id": "b421142f",
   "metadata": {},
   "outputs": [],
   "source": [
    "import pandas as pd\n",
    "import numpy as np\n",
    "\n",
    "from sklearn.datasets import load_iris"
   ]
  },
  {
   "cell_type": "markdown",
   "id": "dfd7b5a2",
   "metadata": {},
   "source": [
    "导入数据集"
   ]
  },
  {
   "cell_type": "code",
   "execution_count": 65,
   "id": "f6479ecc",
   "metadata": {},
   "outputs": [],
   "source": [
    "iris = load_iris()\n",
    "df = pd.DataFrame(iris.data, columns=iris.feature_names)"
   ]
  },
  {
   "cell_type": "markdown",
   "id": "eae00ec9",
   "metadata": {},
   "source": [
    "分割测试集与训练集"
   ]
  },
  {
   "cell_type": "code",
   "execution_count": 66,
   "id": "7105f9c6",
   "metadata": {},
   "outputs": [],
   "source": [
    "from sklearn.model_selection import train_test_split\n",
    "\n",
    "x_train, x_test, y_train, y_test = train_test_split(iris.data, iris.target, random_state=6)"
   ]
  },
  {
   "cell_type": "markdown",
   "id": "3624ec59",
   "metadata": {},
   "source": [
    "数据标准化"
   ]
  },
  {
   "cell_type": "code",
   "execution_count": 67,
   "id": "f356d2ef",
   "metadata": {},
   "outputs": [],
   "source": [
    "from sklearn.preprocessing import StandardScaler\n",
    "\n",
    "transfer = StandardScaler()\n",
    "x_train = transfer.fit_transform(x_train)\n",
    "x_test = transfer.transform(x_test)"
   ]
  },
  {
   "cell_type": "markdown",
   "id": "f12ed987",
   "metadata": {},
   "source": [
    "模型训练与预测"
   ]
  },
  {
   "cell_type": "code",
   "execution_count": 68,
   "id": "13b94269",
   "metadata": {},
   "outputs": [],
   "source": [
    "from sklearn.neighbors import KNeighborsClassifier\n",
    "\n",
    "estimator = KNeighborsClassifier()"
   ]
  },
  {
   "cell_type": "markdown",
   "id": "08542e0c-91de-47ea-8b1e-e00aab3e884c",
   "metadata": {},
   "source": [
    "网格搜索与验证"
   ]
  },
  {
   "cell_type": "code",
   "execution_count": 69,
   "id": "0cd249b3-7cd8-4f18-9864-2cc943f585f1",
   "metadata": {},
   "outputs": [],
   "source": [
    "from sklearn.model_selection import GridSearchCV\n",
    "\n",
    "param_dict = {\"n_neighbors\" : [3, 4, 5, 6, 7, 8, 9, 10, 11, 12, 13, 14]}\n",
    "estimator = GridSearchCV(estimator, param_grid=param_dict, cv=10)"
   ]
  },
  {
   "cell_type": "markdown",
   "id": "e3b52b83-b2a4-4499-9df8-76951fa0e79d",
   "metadata": {},
   "source": [
    "调优后进行测试输出"
   ]
  },
  {
   "cell_type": "code",
   "execution_count": 70,
   "id": "46f12d51-5405-40b7-b7d8-26c1127d745d",
   "metadata": {},
   "outputs": [
    {
     "name": "stdout",
     "output_type": "stream",
     "text": [
      "准确率为:\n",
      " 0.9473684210526315\n"
     ]
    }
   ],
   "source": [
    "estimator.fit(x_train, y_train)\n",
    "\n",
    "score = estimator.score(x_test, y_test)\n",
    "print(\"准确率为:\\n\", score)"
   ]
  },
  {
   "cell_type": "markdown",
   "id": "c1b3e05c-51ce-4d79-82d8-91b75ea40feb",
   "metadata": {},
   "source": [
    "查看最佳参数以及最佳结果和最佳估计器"
   ]
  },
  {
   "cell_type": "code",
   "execution_count": 71,
   "id": "091345b5-929c-421c-bb72-63fe02c5806a",
   "metadata": {},
   "outputs": [
    {
     "name": "stdout",
     "output_type": "stream",
     "text": [
      "最佳参数:\n",
      " {'n_neighbors': 11}\n",
      "最佳结果:\n",
      " 0.9734848484848484\n",
      "最佳估计器:\n",
      " KNeighborsClassifier(n_neighbors=11)\n",
      "交叉验证结果:\n",
      " {'mean_fit_time': array([0.00052993, 0.00052366, 0.00044312, 0.00044446, 0.00049322,\n",
      "       0.00047696, 0.00046227, 0.00044487, 0.00043921, 0.00045037,\n",
      "       0.0004472 , 0.00045278]), 'std_fit_time': array([1.56272168e-04, 1.54295884e-04, 2.56828938e-06, 4.55597880e-06,\n",
      "       2.37819515e-05, 4.31410167e-05, 2.80501156e-05, 7.35044905e-06,\n",
      "       3.82035551e-06, 2.33133874e-05, 1.51406310e-05, 3.02516350e-05]), 'mean_score_time': array([0.00103459, 0.00103326, 0.00091236, 0.00091295, 0.00103979,\n",
      "       0.00097516, 0.00096185, 0.00092506, 0.00091116, 0.00094414,\n",
      "       0.00091939, 0.00102096]), 'std_score_time': array([2.65391584e-04, 1.81379911e-04, 8.55457690e-06, 1.01319762e-05,\n",
      "       6.35883224e-05, 1.03138480e-04, 8.94723049e-05, 4.19078558e-05,\n",
      "       1.03705505e-05, 6.34500780e-05, 1.68144439e-05, 2.47672952e-04]), 'param_n_neighbors': masked_array(data=[3, 4, 5, 6, 7, 8, 9, 10, 11, 12, 13, 14],\n",
      "             mask=[False, False, False, False, False, False, False, False,\n",
      "                   False, False, False, False],\n",
      "       fill_value='?',\n",
      "            dtype=object), 'params': [{'n_neighbors': 3}, {'n_neighbors': 4}, {'n_neighbors': 5}, {'n_neighbors': 6}, {'n_neighbors': 7}, {'n_neighbors': 8}, {'n_neighbors': 9}, {'n_neighbors': 10}, {'n_neighbors': 11}, {'n_neighbors': 12}, {'n_neighbors': 13}, {'n_neighbors': 14}], 'split0_test_score': array([1.        , 1.        , 1.        , 1.        , 1.        ,\n",
      "       1.        , 1.        , 1.        , 1.        , 1.        ,\n",
      "       1.        , 0.91666667]), 'split1_test_score': array([0.91666667, 1.        , 1.        , 1.        , 0.91666667,\n",
      "       0.91666667, 0.91666667, 0.91666667, 0.91666667, 0.91666667,\n",
      "       0.91666667, 1.        ]), 'split2_test_score': array([1., 1., 1., 1., 1., 1., 1., 1., 1., 1., 1., 1.]), 'split3_test_score': array([1.        , 1.        , 1.        , 1.        , 1.        ,\n",
      "       0.90909091, 0.90909091, 0.90909091, 1.        , 1.        ,\n",
      "       1.        , 0.90909091]), 'split4_test_score': array([1., 1., 1., 1., 1., 1., 1., 1., 1., 1., 1., 1.]), 'split5_test_score': array([0.90909091, 1.        , 1.        , 1.        , 1.        ,\n",
      "       1.        , 1.        , 1.        , 1.        , 1.        ,\n",
      "       1.        , 1.        ]), 'split6_test_score': array([1., 1., 1., 1., 1., 1., 1., 1., 1., 1., 1., 1.]), 'split7_test_score': array([0.90909091, 0.90909091, 0.90909091, 0.81818182, 0.90909091,\n",
      "       0.90909091, 1.        , 0.90909091, 1.        , 0.90909091,\n",
      "       1.        , 0.90909091]), 'split8_test_score': array([1., 1., 1., 1., 1., 1., 1., 1., 1., 1., 1., 1.]), 'split9_test_score': array([0.81818182, 0.81818182, 0.81818182, 0.81818182, 0.81818182,\n",
      "       0.81818182, 0.81818182, 0.81818182, 0.81818182, 0.81818182,\n",
      "       0.81818182, 0.81818182]), 'mean_test_score': array([0.95530303, 0.97272727, 0.97272727, 0.96363636, 0.96439394,\n",
      "       0.95530303, 0.96439394, 0.95530303, 0.97348485, 0.96439394,\n",
      "       0.97348485, 0.95530303]), 'std_test_score': array([0.0604591 , 0.05821022, 0.05821022, 0.07272727, 0.05965639,\n",
      "       0.0604591 , 0.05965639, 0.0604591 , 0.05742104, 0.05965639,\n",
      "       0.05742104, 0.0604591 ]), 'rank_test_score': array([9, 3, 3, 8, 5, 9, 5, 9, 1, 5, 1, 9], dtype=int32)}\n"
     ]
    }
   ],
   "source": [
    "print(\"最佳参数:\\n\", estimator.best_params_)\n",
    "print(\"最佳结果:\\n\", estimator.best_score_)\n",
    "print(\"最佳估计器:\\n\", estimator.best_estimator_)\n",
    "print(\"交叉验证结果:\\n\", estimator.cv_results_)"
   ]
  },
  {
   "cell_type": "code",
   "execution_count": null,
   "id": "270f401b-879b-452f-805e-4d498eb9c1f7",
   "metadata": {},
   "outputs": [],
   "source": []
  }
 ],
 "metadata": {
  "kernelspec": {
   "display_name": "Python 3 (ipykernel)",
   "language": "python",
   "name": "python3"
  },
  "language_info": {
   "codemirror_mode": {
    "name": "ipython",
    "version": 3
   },
   "file_extension": ".py",
   "mimetype": "text/x-python",
   "name": "python",
   "nbconvert_exporter": "python",
   "pygments_lexer": "ipython3",
   "version": "3.8.18"
  }
 },
 "nbformat": 4,
 "nbformat_minor": 5
}
