{
 "cells": [
  {
   "cell_type": "markdown",
   "id": "c6f6d1a9-b9bb-4f14-9b5f-e20c003ad80c",
   "metadata": {},
   "source": [
    "任务: \n",
    "    预测Facebook上用户签到位置\n",
    "    \n",
    "流程：\n",
    "```\n",
    "1. 数据读取与清洗\n",
    "    1.1 缩小数据范围\n",
    "    1.2 处理time（时间戳变成年月日时分秒）\n",
    "    1.3 过滤签到次数少的地点\n",
    "2. 切分训练集与测试集\n",
    "3. 数据标准化\n",
    "4. 模型训练与预测\n",
    "5. 模型调优\n",
    "```"
   ]
  },
  {
   "cell_type": "code",
   "execution_count": 1,
   "id": "82bd6911-ce96-41dc-b41a-125fe23929da",
   "metadata": {},
   "outputs": [],
   "source": [
    "import pandas as pd\n",
    "import numpy as np"
   ]
  },
  {
   "cell_type": "markdown",
   "id": "a8909bf4-4640-4d5a-aebf-b2af966ac6a5",
   "metadata": {},
   "source": [
    "读取训练和测试数据"
   ]
  },
  {
   "cell_type": "code",
   "execution_count": 2,
   "id": "f545febe-48c5-43fb-bfe6-bf66238c6ec2",
   "metadata": {},
   "outputs": [],
   "source": [
    "train = pd.read_csv(\"/data/ys_data/facebook/train.csv\")\n",
    "test = pd.read_csv(\"/data/ys_data/facebook/test.csv\")"
   ]
  },
  {
   "cell_type": "markdown",
   "id": "ffb46812-4869-430a-a534-d48154fc7b40",
   "metadata": {},
   "source": [
    "数据清洗 - 缩小数据范围（调试算法用，算法优化后跑全量不用）"
   ]
  },
  {
   "cell_type": "code",
   "execution_count": 5,
   "id": "ba8e1adb-6f4e-4d80-99da-b7f3d0b416cd",
   "metadata": {},
   "outputs": [],
   "source": [
    "train = train.query(\"x < 2.5 & x > 2 & y < 1.5 & y > 1.0\")"
   ]
  },
  {
   "cell_type": "markdown",
   "id": "444cfa20-81d3-4e25-a6e9-74c81b5daa7b",
   "metadata": {},
   "source": [
    "数据清洗 - 处理时间特征"
   ]
  },
  {
   "cell_type": "code",
   "execution_count": 6,
   "id": "ee1d8596-9f8c-4cbb-8c7f-fd9c98516146",
   "metadata": {},
   "outputs": [],
   "source": [
    "time_value = pd.to_datetime(train[\"time\"], unit=\"s\")\n",
    "date = pd.DatetimeIndex(time_value)\n",
    "train[\"day\"] = date.day\n",
    "train[\"weekday\"] = date.weekday\n",
    "train[\"hour\"] = date.hour"
   ]
  },
  {
   "cell_type": "markdown",
   "id": "ea10122a-de36-43b7-9b0c-7ec8e34cea3a",
   "metadata": {},
   "source": [
    "数据清洗 - 过滤签到次数比较少的地方"
   ]
  },
  {
   "cell_type": "code",
   "execution_count": 7,
   "id": "42503b33-c886-4ec5-aee8-99fb22335e71",
   "metadata": {},
   "outputs": [],
   "source": [
    "place_count = train.groupby(\"place_id\").count()[\"row_id\"]\n",
    "train_final = train[train[\"place_id\"].isin(place_count[place_count > 3].index.values)]"
   ]
  },
  {
   "cell_type": "markdown",
   "id": "d03c50ee-0879-42fd-a81a-4c895db05f4e",
   "metadata": {},
   "source": [
    "筛选特征值和目标值"
   ]
  },
  {
   "cell_type": "code",
   "execution_count": 8,
   "id": "325ce9b7-27a8-4bcd-a03d-a491670d43c1",
   "metadata": {},
   "outputs": [],
   "source": [
    "x = train_final[[\"x\", \"y\", \"accuracy\", \"day\", \"weekday\", \"hour\"]]\n",
    "y = train_final[\"place_id\"]"
   ]
  },
  {
   "cell_type": "markdown",
   "id": "9b1f695e-a977-41cf-93f1-ed76224f733a",
   "metadata": {},
   "source": [
    "切分训练集与测试集"
   ]
  },
  {
   "cell_type": "code",
   "execution_count": 9,
   "id": "b1be0132-cb46-4bf5-a531-bdb2d5161bac",
   "metadata": {},
   "outputs": [],
   "source": [
    "from sklearn.model_selection import train_test_split\n",
    "\n",
    "x_train, x_test, y_train, y_test = train_test_split(x, y, random_state=10)"
   ]
  },
  {
   "cell_type": "markdown",
   "id": "3a02e20e-a9c1-49f3-9a6c-d0af8461a4f1",
   "metadata": {},
   "source": [
    "数据标准化"
   ]
  },
  {
   "cell_type": "code",
   "execution_count": 10,
   "id": "2b9a40f0-118b-49e3-ba1f-efa677b87a80",
   "metadata": {},
   "outputs": [],
   "source": [
    "from sklearn.preprocessing import StandardScaler\n",
    "\n",
    "transfer = StandardScaler()\n",
    "x_train = transfer.fit_transform(x_train)\n",
    "x_test = transfer.transform(x_test)"
   ]
  },
  {
   "cell_type": "markdown",
   "id": "e5ad1d77-43d6-455e-a30e-e698ff2a48df",
   "metadata": {},
   "source": [
    "模型调优"
   ]
  },
  {
   "cell_type": "code",
   "execution_count": 11,
   "id": "adcfcc2b-1ab7-4d8c-a1d6-584044fe541e",
   "metadata": {},
   "outputs": [],
   "source": [
    "from sklearn.tree import DecisionTreeClassifier\n",
    "\n",
    "estimator = DecisionTreeClassifier(criterion='gini')"
   ]
  },
  {
   "cell_type": "markdown",
   "id": "c2c3781b-f986-475c-887b-71c676527661",
   "metadata": {},
   "source": [
    "模型训练与评估"
   ]
  },
  {
   "cell_type": "code",
   "execution_count": 12,
   "id": "5fb02b5c-969a-4708-b128-c4391d8542d5",
   "metadata": {},
   "outputs": [
    {
     "name": "stdout",
     "output_type": "stream",
     "text": [
      "准确率为:\n",
      " 0.34778524817085227\n"
     ]
    }
   ],
   "source": [
    "estimator.fit(x_train, y_train)\n",
    "\n",
    "score = estimator.score(x_test, y_test)\n",
    "print(\"准确率为:\\n\", score)"
   ]
  },
  {
   "cell_type": "markdown",
   "id": "8c39db66-2a73-437f-8d70-18344c761e60",
   "metadata": {},
   "source": [
    "查看最优估计器等参数"
   ]
  },
  {
   "cell_type": "code",
   "execution_count": 45,
   "id": "a0258324-4dd2-43f0-ad61-e33ceeff4b50",
   "metadata": {},
   "outputs": [
    {
     "name": "stdout",
     "output_type": "stream",
     "text": [
      "最佳参数:\n",
      " {'n_neighbors': 5}\n",
      "最佳结果:\n",
      " 0.36122741352929555\n",
      "最佳估计器:\n",
      " KNeighborsClassifier()\n",
      "交叉验证结果:\n",
      " {'mean_fit_time': array([0.04645412, 0.04665968, 0.04541981, 0.04796171, 0.0452919 ,\n",
      "       0.04590189, 0.04634006, 0.04715374, 0.04658577, 0.04746213,\n",
      "       0.04792147, 0.04532144, 0.04514709, 0.04531186]), 'std_fit_time': array([0.00185437, 0.0015771 , 0.00092431, 0.00769452, 0.00075101,\n",
      "       0.00079017, 0.0017076 , 0.0016195 , 0.00149691, 0.00207092,\n",
      "       0.00362087, 0.000864  , 0.00080497, 0.00091073]), 'mean_score_time': array([0.14262388, 0.17309763, 0.18409896, 0.18865788, 0.19136951,\n",
      "       0.20463109, 0.20438697, 0.21465096, 0.22390065, 0.23209233,\n",
      "       0.2367444 , 0.23453414, 0.23557563, 0.24891617]), 'std_score_time': array([0.00651548, 0.00537264, 0.01186658, 0.00645341, 0.00250457,\n",
      "       0.01210409, 0.00225328, 0.00466696, 0.00609704, 0.00775368,\n",
      "       0.00761838, 0.00428241, 0.00387544, 0.01078873]), 'param_n_neighbors': masked_array(data=[1, 2, 3, 4, 5, 6, 7, 8, 9, 10, 11, 12, 13, 14],\n",
      "             mask=[False, False, False, False, False, False, False, False,\n",
      "                   False, False, False, False, False, False],\n",
      "       fill_value='?',\n",
      "            dtype=object), 'params': [{'n_neighbors': 1}, {'n_neighbors': 2}, {'n_neighbors': 3}, {'n_neighbors': 4}, {'n_neighbors': 5}, {'n_neighbors': 6}, {'n_neighbors': 7}, {'n_neighbors': 8}, {'n_neighbors': 9}, {'n_neighbors': 10}, {'n_neighbors': 11}, {'n_neighbors': 12}, {'n_neighbors': 13}, {'n_neighbors': 14}], 'split0_test_score': array([0.34783325, 0.32937881, 0.34124238, 0.35458889, 0.3644752 ,\n",
      "       0.36068545, 0.35739001, 0.35788433, 0.35475367, 0.351623  ,\n",
      "       0.3504696 , 0.34486736, 0.34124238, 0.34305487]), 'split1_test_score': array([0.3504696 , 0.32690723, 0.34272533, 0.3428901 , 0.35607184,\n",
      "       0.35623661, 0.35294118, 0.34882188, 0.3504696 , 0.34750371,\n",
      "       0.34486736, 0.34536167, 0.33926512, 0.33778217]), 'split2_test_score': array([0.35299934, 0.33437706, 0.35135135, 0.35827291, 0.36700725,\n",
      "       0.36255768, 0.36338167, 0.36239288, 0.3587673 , 0.36305208,\n",
      "       0.3592617 , 0.36058009, 0.35596572, 0.35629532]), 'split3_test_score': array([0.34228741, 0.32910349, 0.34245221, 0.35613052, 0.36371127,\n",
      "       0.36568886, 0.36090969, 0.35810811, 0.35728411, 0.35332894,\n",
      "       0.35085695, 0.34690178, 0.33948583, 0.33734344]), 'split4_test_score': array([0.3599209 , 0.33223467, 0.35168095, 0.36305208, 0.36585366,\n",
      "       0.36684245, 0.36305208, 0.36404087, 0.36041529, 0.35464733,\n",
      "       0.35514173, 0.34937376, 0.3444298 , 0.34294661]), 'split5_test_score': array([0.35217535, 0.33322347, 0.3437706 , 0.35398813, 0.35678972,\n",
      "       0.3600857 , 0.36189848, 0.35843771, 0.35711931, 0.35728411,\n",
      "       0.35497693, 0.35431773, 0.35069216, 0.34904417]), 'split6_test_score': array([0.35184575, 0.33058668, 0.34294661, 0.35019776, 0.35744891,\n",
      "       0.35810811, 0.35547132, 0.35415293, 0.34920897, 0.343441  ,\n",
      "       0.34047462, 0.34228741, 0.33899143, 0.33750824]), 'split7_test_score': array([0.35266974, 0.3279499 , 0.34294661, 0.35415293, 0.35810811,\n",
      "       0.3589321 , 0.35596572, 0.35497693, 0.35497693, 0.35085695,\n",
      "       0.34854977, 0.34854977, 0.34525379, 0.34294661]), 'split8_test_score': array([0.35514173, 0.34047462, 0.35201055, 0.36239288, 0.36733685,\n",
      "       0.36667765, 0.36519446, 0.36222808, 0.36338167, 0.36189848,\n",
      "       0.3590969 , 0.35514173, 0.35217535, 0.34772577]), 'split9_test_score': array([0.35019776, 0.32531312, 0.34129862, 0.34854977, 0.35547132,\n",
      "       0.35415293, 0.35201055, 0.35514173, 0.35085695, 0.34805537,\n",
      "       0.34756098, 0.34591299, 0.34245221, 0.33668425]), 'mean_test_score': array([0.35155408, 0.33095491, 0.34524252, 0.3544216 , 0.36122741,\n",
      "       0.36099675, 0.35882152, 0.35761854, 0.35572338, 0.3531691 ,\n",
      "       0.35112565, 0.34932943, 0.34499538, 0.34313314]), 'std_test_score': array([0.00435214, 0.00415224, 0.00427743, 0.00584262, 0.00460722,\n",
      "       0.00417047, 0.0044219 , 0.00434482, 0.00435354, 0.00594675,\n",
      "       0.00577194, 0.00537273, 0.00569677, 0.00603931]), 'rank_test_score': array([ 8, 14, 11,  6,  1,  2,  3,  4,  5,  7,  9, 10, 12, 13],\n",
      "      dtype=int32)}\n"
     ]
    }
   ],
   "source": [
    "print(\"最佳参数:\\n\", estimator.best_params_)\n",
    "print(\"最佳结果:\\n\", estimator.best_score_)\n",
    "print(\"最佳估计器:\\n\", estimator.best_estimator_)\n",
    "print(\"交叉验证结果:\\n\", estimator.cv_results_)"
   ]
  },
  {
   "cell_type": "code",
   "execution_count": null,
   "id": "1bf39e69-3631-430d-b01f-432c4ddbd4ca",
   "metadata": {},
   "outputs": [],
   "source": []
  }
 ],
 "metadata": {
  "kernelspec": {
   "display_name": "Python 3 (ipykernel)",
   "language": "python",
   "name": "python3"
  },
  "language_info": {
   "codemirror_mode": {
    "name": "ipython",
    "version": 3
   },
   "file_extension": ".py",
   "mimetype": "text/x-python",
   "name": "python",
   "nbconvert_exporter": "python",
   "pygments_lexer": "ipython3",
   "version": "3.8.18"
  }
 },
 "nbformat": 4,
 "nbformat_minor": 5
}
