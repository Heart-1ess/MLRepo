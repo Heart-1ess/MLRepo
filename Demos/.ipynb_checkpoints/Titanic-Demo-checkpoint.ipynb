{
 "cells": [
  {
   "cell_type": "markdown",
   "id": "0cabe4f4-93e7-4003-9340-2ff51ea9db04",
   "metadata": {},
   "source": [
    "任务: 泰坦尼克号乘客生存预测\n",
    "\n",
    "流程: \n",
    "```\n",
    "1. 数据读取与清洗\n",
    "2. 特征工程（提取特征与细化）\n",
    "3. 模型训练\n",
    "4. 模型评估\n",
    "```"
   ]
  },
  {
   "cell_type": "code",
   "execution_count": 33,
   "id": "47ccc857-c632-47cc-ac25-e58e729cdcf9",
   "metadata": {},
   "outputs": [],
   "source": [
    "import pandas as pd\n",
    "import numpy as np"
   ]
  },
  {
   "cell_type": "markdown",
   "id": "6b50f51c-e186-4ccf-8c9e-d0f3affe26d2",
   "metadata": {},
   "source": [
    "数据读取"
   ]
  },
  {
   "cell_type": "code",
   "execution_count": 34,
   "id": "dd9a807a-5392-4b04-a09b-59e924debe9a",
   "metadata": {},
   "outputs": [],
   "source": [
    "data = pd.read_csv(\"/data/ys_data/titanic/train.csv\")\n",
    "test = pd.read_csv(\"/data/ys_data/titanic/test.csv\")"
   ]
  },
  {
   "cell_type": "markdown",
   "id": "62642742-5eff-4ab3-8fa4-5c90e8d1c17e",
   "metadata": {},
   "source": [
    "数据清洗"
   ]
  },
  {
   "cell_type": "code",
   "execution_count": 35,
   "id": "867e2e92-2862-4304-b192-c4fa4adfa4f9",
   "metadata": {},
   "outputs": [],
   "source": [
    "# 合并两个数据集查看整体数据集信息，合并数据集并忽略缺失值\n",
    "full = data._append(test, ignore_index=True)"
   ]
  },
  {
   "cell_type": "code",
   "execution_count": 36,
   "id": "71edd4c2-6aed-45ea-9437-462faaab5e5e",
   "metadata": {},
   "outputs": [
    {
     "name": "stdout",
     "output_type": "stream",
     "text": [
      "<class 'pandas.core.frame.DataFrame'>\n",
      "RangeIndex: 1309 entries, 0 to 1308\n",
      "Data columns (total 12 columns):\n",
      " #   Column       Non-Null Count  Dtype  \n",
      "---  ------       --------------  -----  \n",
      " 0   PassengerId  1309 non-null   int64  \n",
      " 1   Survived     891 non-null    float64\n",
      " 2   Pclass       1309 non-null   int64  \n",
      " 3   Name         1309 non-null   object \n",
      " 4   Sex          1309 non-null   object \n",
      " 5   Age          1046 non-null   float64\n",
      " 6   SibSp        1309 non-null   int64  \n",
      " 7   Parch        1309 non-null   int64  \n",
      " 8   Ticket       1309 non-null   object \n",
      " 9   Fare         1308 non-null   float64\n",
      " 10  Cabin        295 non-null    object \n",
      " 11  Embarked     1307 non-null   object \n",
      "dtypes: float64(3), int64(4), object(5)\n",
      "memory usage: 122.8+ KB\n"
     ]
    }
   ],
   "source": [
    "# 查看数据集整体情况，查看缺失数据并规划数据清洗\n",
    "full.info()"
   ]
  },
  {
   "cell_type": "markdown",
   "id": "f9634993-ee5e-4872-a1fb-42a7dfa4a6ad",
   "metadata": {},
   "source": [
    "数据清洗的方法：\r\n",
    "\r\n",
    "A如果是数值型，用平均数取代\r\n",
    "\r\n",
    "B如果是分类数据，用最常见的类别取代\r\n",
    "\r\n",
    "C使用模型预测缺失值，例如：K-NN"
   ]
  },
  {
   "cell_type": "code",
   "execution_count": 37,
   "id": "91d1ccef-bb4a-4a21-8e06-941ee5426b65",
   "metadata": {},
   "outputs": [],
   "source": [
    "# 用均值填充Age和Fare\n",
    "full[\"Age\"] = full[\"Age\"].fillna(full[\"Age\"].mean())\n",
    "full[\"Fare\"] = full[\"Fare\"].fillna(full[\"Fare\"].mean())"
   ]
  },
  {
   "cell_type": "code",
   "execution_count": 38,
   "id": "0ce5a96f-1bcd-4844-85d8-3f7b31d99e5d",
   "metadata": {},
   "outputs": [
    {
     "data": {
      "text/plain": [
       "Embarked\n",
       "S    914\n",
       "C    270\n",
       "Q    123\n",
       "Name: count, dtype: int64"
      ]
     },
     "execution_count": 38,
     "metadata": {},
     "output_type": "execute_result"
    }
   ],
   "source": [
    "# 查看Embarked常见类别\n",
    "full[\"Embarked\"].value_counts()"
   ]
  },
  {
   "cell_type": "code",
   "execution_count": 39,
   "id": "0bf5418d-9239-4084-96e3-a76f44628485",
   "metadata": {},
   "outputs": [],
   "source": [
    "# 用常见的类别填充Embarked\n",
    "full[\"Embarked\"] = full[\"Embarked\"].fillna(\"S\")"
   ]
  },
  {
   "cell_type": "code",
   "execution_count": 40,
   "id": "978c17f3-feb3-4571-b718-5aa4d908525a",
   "metadata": {},
   "outputs": [],
   "source": [
    "# Cabin一列缺失较多，暂填充为u，代表未知\n",
    "full[\"Cabin\"] = full[\"Cabin\"].fillna(\"u\")"
   ]
  },
  {
   "cell_type": "code",
   "execution_count": 41,
   "id": "5b9114ae-72f3-4aaf-80dd-a663b377a3e4",
   "metadata": {},
   "outputs": [
    {
     "name": "stdout",
     "output_type": "stream",
     "text": [
      "<class 'pandas.core.frame.DataFrame'>\n",
      "RangeIndex: 1309 entries, 0 to 1308\n",
      "Data columns (total 12 columns):\n",
      " #   Column       Non-Null Count  Dtype  \n",
      "---  ------       --------------  -----  \n",
      " 0   PassengerId  1309 non-null   int64  \n",
      " 1   Survived     891 non-null    float64\n",
      " 2   Pclass       1309 non-null   int64  \n",
      " 3   Name         1309 non-null   object \n",
      " 4   Sex          1309 non-null   object \n",
      " 5   Age          1309 non-null   float64\n",
      " 6   SibSp        1309 non-null   int64  \n",
      " 7   Parch        1309 non-null   int64  \n",
      " 8   Ticket       1309 non-null   object \n",
      " 9   Fare         1309 non-null   float64\n",
      " 10  Cabin        1309 non-null   object \n",
      " 11  Embarked     1309 non-null   object \n",
      "dtypes: float64(3), int64(4), object(5)\n",
      "memory usage: 122.8+ KB\n"
     ]
    }
   ],
   "source": [
    "# 填充完成后查看数据集\n",
    "full.info()"
   ]
  },
  {
   "cell_type": "markdown",
   "id": "7d538200-b0d5-424b-9922-2879794679f7",
   "metadata": {},
   "source": [
    "特征提取"
   ]
  },
  {
   "cell_type": "code",
   "execution_count": 42,
   "id": "b1800a86-92d0-4eac-bb3f-66fb43a16757",
   "metadata": {},
   "outputs": [],
   "source": [
    "# 对性别进行替换（male->1, female->2）\n",
    "sex_mapDict = { \"male\" : 1, \n",
    "               \"female\" : 0}\n",
    "full[\"Sex\"] = full[\"Sex\"].map(sex_mapDict)"
   ]
  },
  {
   "cell_type": "code",
   "execution_count": 43,
   "id": "6797e15f-0700-4a38-8d70-b7e3bdf864dd",
   "metadata": {},
   "outputs": [
    {
     "data": {
      "text/plain": [
       "0       1\n",
       "1       0\n",
       "2       0\n",
       "3       0\n",
       "4       1\n",
       "       ..\n",
       "1304    1\n",
       "1305    0\n",
       "1306    1\n",
       "1307    1\n",
       "1308    1\n",
       "Name: Sex, Length: 1309, dtype: int64"
      ]
     },
     "execution_count": 43,
     "metadata": {},
     "output_type": "execute_result"
    }
   ],
   "source": [
    "full[\"Sex\"]"
   ]
  },
  {
   "cell_type": "code",
   "execution_count": 44,
   "id": "fded29ae-09cf-480e-8614-b5add131035d",
   "metadata": {},
   "outputs": [
    {
     "ename": "ImportError",
     "evalue": "cannot import name 'DictVectorizer' from 'sklearn.model_selection' (/home/bupt/anaconda3/envs/MachineLearning/lib/python3.8/site-packages/sklearn/model_selection/__init__.py)",
     "output_type": "error",
     "traceback": [
      "\u001b[0;31m---------------------------------------------------------------------------\u001b[0m",
      "\u001b[0;31mImportError\u001b[0m                               Traceback (most recent call last)",
      "Cell \u001b[0;32mIn[44], line 2\u001b[0m\n\u001b[1;32m      1\u001b[0m \u001b[38;5;66;03m# Embarked转化为one-hot编码（字典特征提取）\u001b[39;00m\n\u001b[0;32m----> 2\u001b[0m \u001b[38;5;28;01mfrom\u001b[39;00m \u001b[38;5;21;01msklearn\u001b[39;00m\u001b[38;5;21;01m.\u001b[39;00m\u001b[38;5;21;01mmodel_selection\u001b[39;00m \u001b[38;5;28;01mimport\u001b[39;00m DictVectorizer\n",
      "\u001b[0;31mImportError\u001b[0m: cannot import name 'DictVectorizer' from 'sklearn.model_selection' (/home/bupt/anaconda3/envs/MachineLearning/lib/python3.8/site-packages/sklearn/model_selection/__init__.py)"
     ]
    }
   ],
   "source": [
    "# Embarked转化为one-hot编码（字典特征提取）\n",
    "from sklearn.feature_extraction import DictVectorizer\n",
    "\n",
    "transfer = DictVectorizer()\n",
    "embarked = transfer.fit_transform(full[\"Embarked\"])"
   ]
  }
 ],
 "metadata": {
  "kernelspec": {
   "display_name": "Python 3 (ipykernel)",
   "language": "python",
   "name": "python3"
  },
  "language_info": {
   "codemirror_mode": {
    "name": "ipython",
    "version": 3
   },
   "file_extension": ".py",
   "mimetype": "text/x-python",
   "name": "python",
   "nbconvert_exporter": "python",
   "pygments_lexer": "ipython3",
   "version": "3.8.18"
  }
 },
 "nbformat": 4,
 "nbformat_minor": 5
}
