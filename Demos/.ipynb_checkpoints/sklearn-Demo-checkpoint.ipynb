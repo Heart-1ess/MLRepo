{
 "cells": [
  {
   "cell_type": "code",
   "execution_count": 17,
   "id": "283a6f9b",
   "metadata": {},
   "outputs": [],
   "source": [
    "import pandas as pd\n",
    "import numpy as np\n",
    "\n",
    "from sklearn.datasets import load_iris\n",
    "from sklearn.preprocessing import StandardScaler\n",
    "from sklearn.feature_extraction import DictVectorizer\n",
    "\n",
    "from sklearn.decomposition import PCA"
   ]
  },
  {
   "cell_type": "markdown",
   "id": "b8403ad7",
   "metadata": {},
   "source": [
    "定义使用数据集"
   ]
  },
  {
   "cell_type": "code",
   "execution_count": 25,
   "id": "f8b7ba8b",
   "metadata": {},
   "outputs": [],
   "source": [
    "iris = load_iris()\n",
    "data = [[2, 8, 4, 5], [6, 3, 0, 8], [5, 4, 9, 1]]\n",
    "geoData = [{'city' : '北京', 'temperature' : 100}, {'city' : '上海', 'temperature' : 60}, {'city' : '深圳', 'temperature' : 30}]"
   ]
  },
  {
   "cell_type": "markdown",
   "id": "fbcecf8b",
   "metadata": {},
   "source": [
    "标准化"
   ]
  },
  {
   "cell_type": "code",
   "execution_count": 22,
   "id": "b5c6db73",
   "metadata": {},
   "outputs": [
    {
     "name": "stdout",
     "output_type": "stream",
     "text": [
      "[[-1.37281295  1.38873015 -0.09053575  0.11624764]\n",
      " [ 0.98058068 -0.9258201  -1.1769647   1.16247639]\n",
      " [ 0.39223227 -0.46291005  1.26750044 -1.27872403]]\n"
     ]
    }
   ],
   "source": [
    "transfer = StandardScaler()\n",
    "data_new = transfer.fit_transform(data)\n",
    "print(data_new)"
   ]
  },
  {
   "cell_type": "markdown",
   "id": "a2443aa9",
   "metadata": {},
   "source": [
    "字典特征抽取"
   ]
  },
  {
   "cell_type": "code",
   "execution_count": 27,
   "id": "00f830e1",
   "metadata": {},
   "outputs": [
    {
     "name": "stdout",
     "output_type": "stream",
     "text": [
      "[[  0.   1.   0. 100.]\n",
      " [  1.   0.   0.  60.]\n",
      " [  0.   0.   1.  30.]]\n"
     ]
    }
   ],
   "source": [
    "transfer = DictVectorizer(sparse=False)\n",
    "data_new = transfer.fit_transform(geoData)\n",
    "print(data_new)"
   ]
  },
  {
   "cell_type": "markdown",
   "id": "a89885a2",
   "metadata": {},
   "source": [
    "主成分分析PCA降维"
   ]
  },
  {
   "cell_type": "code",
   "execution_count": 21,
   "id": "4b9c5255",
   "metadata": {},
   "outputs": [
    {
     "name": "stdout",
     "output_type": "stream",
     "text": [
      "[[-3.13587302e-16  3.82970843e+00]\n",
      " [-5.74456265e+00 -1.91485422e+00]\n",
      " [ 5.74456265e+00 -1.91485422e+00]]\n"
     ]
    }
   ],
   "source": [
    "transfer = PCA(n_components=2)\n",
    "data_new = transfer.fit_transform(data)\n",
    "print(data_new)"
   ]
  },
  {
   "cell_type": "code",
   "execution_count": null,
   "id": "de154c18",
   "metadata": {},
   "outputs": [],
   "source": []
  }
 ],
 "metadata": {
  "kernelspec": {
   "display_name": "Python 3 (ipykernel)",
   "language": "python",
   "name": "python3"
  },
  "language_info": {
   "codemirror_mode": {
    "name": "ipython",
    "version": 3
   },
   "file_extension": ".py",
   "mimetype": "text/x-python",
   "name": "python",
   "nbconvert_exporter": "python",
   "pygments_lexer": "ipython3",
   "version": "3.9.13"
  }
 },
 "nbformat": 4,
 "nbformat_minor": 5
}
