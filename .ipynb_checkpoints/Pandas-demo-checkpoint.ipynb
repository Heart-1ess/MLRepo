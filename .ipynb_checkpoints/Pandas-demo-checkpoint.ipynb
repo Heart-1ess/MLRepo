{
 "cells": [
  {
   "cell_type": "markdown",
   "id": "b7b60949-bfdc-4e0f-a151-129165e53def",
   "metadata": {},
   "source": [
    "任务: \n",
    "1. 合并列\n",
    "2. 标准化\n",
    "3. KV2Table\n",
    "4. Table2KV\n",
    "\n",
    "具体参照文档\n",
    "\n",
    "https://help.aliyun.com/apsara/enterprise/v_3_18_0/learn/user-guide-318/component-reference-data-preprocessing.html?spm=a2c4g.14484438.10001.50"
   ]
  },
  {
   "cell_type": "code",
   "execution_count": 2,
   "id": "d46a32b8-dc91-4fe8-99ed-be61a28ad980",
   "metadata": {},
   "outputs": [],
   "source": [
    "import pandas as pd\n",
    "import numpy as np"
   ]
  },
  {
   "cell_type": "markdown",
   "id": "be6fa700-2284-4f61-b988-37c3a4deb05d",
   "metadata": {},
   "source": [
    "合并列"
   ]
  },
  {
   "cell_type": "code",
   "execution_count": 133,
   "id": "1fbce44a-db01-40cb-bf57-c15f9f8dfbb3",
   "metadata": {},
   "outputs": [],
   "source": [
    "# 生成DataFrame对象df1与df2作为测试数据\n",
    "data1 = [[1, 1.1, 2, 2.2, 3]]\n",
    "data1_columns = [\"col0\", \"col1\", \"col2\", \"col3\", \"col4\"]\n",
    "data2 = [[10, 10.1, 20, 30]]\n",
    "data2_columns = [\"col10\", \"col11\", \"col12\", \"col13\"]\n",
    "df1 = pd.DataFrame(data1, columns=data1_columns)\n",
    "df2 = pd.DataFrame(data2, columns=data2_columns)"
   ]
  },
  {
   "cell_type": "code",
   "execution_count": 193,
   "id": "a9ef347a-d970-446e-89d4-1ad59282036a",
   "metadata": {},
   "outputs": [],
   "source": [
    "def concat(df1: pd.DataFrame, df2: pd.DataFrame, columns=[]) -> pd.DataFrame:\n",
    "    \"\"\"\n",
    "    对df1与df2进行合并操作\n",
    "        :param1: 需要合并的DataFrame，合并后处于左边\n",
    "        :param2: 需要合并的DataFrame，合并后处于右边\n",
    "        :param3: 合并后的新表头，默认为空即采用原表头\n",
    "\n",
    "        :return: 合并后的新表，DataFrame类型\n",
    "    \"\"\"\n",
    "    # 合并为res\n",
    "    res = pd.concat([df1, df2], axis=1)\n",
    "    # 如果需要进行表头替换\n",
    "    if columns != []:\n",
    "        res.columns = columns\n",
    "    return res"
   ]
  },
  {
   "cell_type": "code",
   "execution_count": 40,
   "id": "28a240a0-a3c2-474b-b2b8-0fee7aa3bd99",
   "metadata": {},
   "outputs": [
    {
     "data": {
      "text/html": [
       "<div>\n",
       "<style scoped>\n",
       "    .dataframe tbody tr th:only-of-type {\n",
       "        vertical-align: middle;\n",
       "    }\n",
       "\n",
       "    .dataframe tbody tr th {\n",
       "        vertical-align: top;\n",
       "    }\n",
       "\n",
       "    .dataframe thead th {\n",
       "        text-align: right;\n",
       "    }\n",
       "</style>\n",
       "<table border=\"1\" class=\"dataframe\">\n",
       "  <thead>\n",
       "    <tr style=\"text-align: right;\">\n",
       "      <th></th>\n",
       "      <th>a</th>\n",
       "      <th>b</th>\n",
       "      <th>c</th>\n",
       "      <th>d</th>\n",
       "      <th>e</th>\n",
       "      <th>f</th>\n",
       "      <th>g</th>\n",
       "      <th>h</th>\n",
       "      <th>i</th>\n",
       "    </tr>\n",
       "  </thead>\n",
       "  <tbody>\n",
       "    <tr>\n",
       "      <th>0</th>\n",
       "      <td>1</td>\n",
       "      <td>1.1</td>\n",
       "      <td>2</td>\n",
       "      <td>2.2</td>\n",
       "      <td>3</td>\n",
       "      <td>10</td>\n",
       "      <td>10.1</td>\n",
       "      <td>20</td>\n",
       "      <td>30</td>\n",
       "    </tr>\n",
       "  </tbody>\n",
       "</table>\n",
       "</div>"
      ],
      "text/plain": [
       "   a    b  c    d  e   f     g   h   i\n",
       "0  1  1.1  2  2.2  3  10  10.1  20  30"
      ]
     },
     "execution_count": 40,
     "metadata": {},
     "output_type": "execute_result"
    }
   ],
   "source": [
    "# 测试用\n",
    "concat(df1, df2, [\"a\", \"b\", \"c\", \"d\", \"e\", \"f\", \"g\", \"h\", \"i\"])"
   ]
  },
  {
   "cell_type": "markdown",
   "id": "66ad281b-e08b-4219-b297-ee347ddb5504",
   "metadata": {},
   "source": [
    "标准化"
   ]
  },
  {
   "cell_type": "code",
   "execution_count": 176,
   "id": "876eda67-8fba-467e-ab09-5450f16b99f2",
   "metadata": {},
   "outputs": [],
   "source": [
    "# 生成DataFrame对象df作为测试数据\n",
    "data = [[\"01\", 10, 10.1, True, \"2016-07-01 10:00:00\"], [None, 11, 10.2, False, \"2016-07-02 10:00:00\"], [\"02\", None, 10.3, True, \"2016-07-03 10:00:00\"], \n",
    "       [\"03\", 12, None, False, \"2016-07-04 10:00:00\"], [\"04\", 13, 10.4, None, \"2016-07-05 10:00:00\"], [\"05\", 14, 10.5, True, None]]\n",
    "columns = [\"col_string\", \"col_bigint\", \"col_double\", \"col_boolean\", \"col_datetime\"]\n",
    "df = pd.DataFrame(data, columns=columns)"
   ]
  },
  {
   "cell_type": "code",
   "execution_count": 218,
   "id": "abb565f4-f685-4ffe-a58e-c7b8e7564456",
   "metadata": {},
   "outputs": [],
   "source": [
    "# 对df进行标准化操作\n",
    "from sklearn.preprocessing import StandardScaler\n",
    "\n",
    "def Standardize(df: pd.DataFrame) -> (pd.DataFrame, pd.DataFrame):\n",
    "    \"\"\"\n",
    "    对df进行数值标准化操作\n",
    "        :param1: 需要进行标准化的DataFrame\n",
    "\n",
    "        :return1: 标准化后的DataFrame\n",
    "        :return2: 原DataFrame的特征表\n",
    "    \"\"\"\n",
    "    # 数据清洗，提取出数值行\n",
    "    raw = df.select_dtypes(include=['int', 'double'])\n",
    "    # 进行标准化并输出\n",
    "    transfer = StandardScaler()\n",
    "    mid = transfer.fit_transform(raw)\n",
    "    raw_feature = []\n",
    "    # 打印时替换列，并将特征存入raw_feature\n",
    "    for i in range(0, len(raw.columns)):\n",
    "        raw_feature.append([raw.columns[i], '{\"name\" : \"standartize\", \"type\" : \"%s\", \"paras\" : {\"mean\" : %.2lf, \"std\" : %.20lf}}' %(raw.dtypes[i], raw.mean()[i], raw.std()[i])])\n",
    "        df[raw.columns[i]] = mid[:,i]\n",
    "    # 格式化feature并输出\n",
    "    feature = pd.DataFrame(raw_feature, columns=['feature', 'json'])\n",
    "    return df, feature"
   ]
  },
  {
   "cell_type": "code",
   "execution_count": 182,
   "id": "a109d5ee-6810-4360-88d2-a5a41b7de1b1",
   "metadata": {},
   "outputs": [
    {
     "name": "stdout",
     "output_type": "stream",
     "text": [
      "  col_string  col_bigint    col_double col_boolean         col_datetime\n",
      "0         01   -1.414214 -1.414214e+00        True  2016-07-01 10:00:00\n",
      "1       None   -0.707107 -7.071068e-01       False  2016-07-02 10:00:00\n",
      "2         02         NaN  4.929390e-15        True  2016-07-03 10:00:00\n",
      "3         03    0.000000           NaN       False  2016-07-04 10:00:00\n",
      "4         04    0.707107  7.071068e-01        None  2016-07-05 10:00:00\n",
      "5         05    1.414214  1.414214e+00        True                 None\n",
      "      feature                                               json\n",
      "0  col_bigint  {\"name\" : \"standartize\", \"type\" : \"float64\", \"...\n",
      "1  col_double  {\"name\" : \"standartize\", \"type\" : \"float64\", \"...\n"
     ]
    }
   ],
   "source": [
    "# 测试用\n",
    "df, feature = Standardize(df)\n",
    "print(df)\n",
    "print(feature)"
   ]
  },
  {
   "cell_type": "markdown",
   "id": "91106c00-0189-4cf3-904e-d5ed9d562e94",
   "metadata": {},
   "source": [
    "Table2KV"
   ]
  },
  {
   "cell_type": "code",
   "execution_count": 183,
   "id": "93e8bb29-2db7-411c-b604-3d0a02f18045",
   "metadata": {},
   "outputs": [],
   "source": [
    "# 生成DataFrame对象df作为测试数据\n",
    "data = [[1, 1.1, 2], [0, 1.2, 3], [1, 2.3, 4], [1, 0.0, 5]]\n",
    "data_columns = [\"col0\", \"col1\", \"col2\"]\n",
    "df = pd.DataFrame(data, columns=data_columns)"
   ]
  },
  {
   "cell_type": "code",
   "execution_count": 219,
   "id": "a659f537-27f4-4552-a9d9-f2dca8bad7f4",
   "metadata": {},
   "outputs": [],
   "source": [
    "# 进行Table2KV的转换\n",
    "def Table2KV(df: pd.DataFrame) -> (pd.DataFrame, pd.DataFrame):\n",
    "    \"\"\"\n",
    "    对df进行Table2KV操作\n",
    "        :param1: 需要进行操作的DataFrame\n",
    "\n",
    "        :return1: 操作后产生的输出，DataFrame类型\n",
    "        :return2: 原表的特征，包含类名、类索引以及类数据类型\n",
    "    \"\"\"\n",
    "    raw = []\n",
    "    # 抽取每行，产生kv\n",
    "    for i in range(0, len(df.values)):\n",
    "        res = \"\"\n",
    "        for j in range(0, len(each)):\n",
    "            res += str(j) + \":\" + str(df.values[i][j]) + \",\"\n",
    "        res = res[:-1]\n",
    "        raw.append([i, res])\n",
    "    # 通过raw建表，完成输出构建\n",
    "    output = pd.DataFrame(raw, columns=['rowid', 'kv'])\n",
    "    # 进行原表特征构建\n",
    "    data_dict = {\n",
    "        \"col_name\" : df.columns.tolist(),\n",
    "        \"col_index\" : list(range(len(df.columns))),\n",
    "        \"col_datatype\" : df.dtypes.tolist()\n",
    "    }\n",
    "    keys = pd.DataFrame(data_dict)\n",
    "    return output, keys"
   ]
  },
  {
   "cell_type": "code",
   "execution_count": 214,
   "id": "ea9800e9-2a88-400b-a045-12a4d91fa4e0",
   "metadata": {},
   "outputs": [
    {
     "name": "stdout",
     "output_type": "stream",
     "text": [
      "   rowid                 kv\n",
      "0      0  0:1.0,1:1.1,2:2.0\n",
      "1      1  0:0.0,1:1.2,2:3.0\n",
      "2      2  0:1.0,1:2.3,2:4.0\n",
      "3      3  0:1.0,1:0.0,2:5.0\n",
      "  col_name  col_index col_datatype\n",
      "0     col0          0        int64\n",
      "1     col1          1      float64\n",
      "2     col2          2        int64\n"
     ]
    }
   ],
   "source": [
    "# 测试用\n",
    "output, keys = Table2KV(df)\n",
    "print(output)\n",
    "print(keys)"
   ]
  },
  {
   "cell_type": "markdown",
   "id": "6a99b15a-9648-4d9a-8bd3-019037479ab3",
   "metadata": {},
   "source": [
    "KV2Table"
   ]
  },
  {
   "cell_type": "code",
   "execution_count": 215,
   "id": "76c84955-8b05-4970-adb0-e99a1085b443",
   "metadata": {},
   "outputs": [],
   "source": [
    "# 生成DataFrame对象df作为测试数据\n",
    "data = [[\"1:1,2:2,3:-3.3\"], [\"1:10,2:20,3:-33.3\"]]\n",
    "data_columns = [\"kv\"]\n",
    "df = pd.DataFrame(data, columns=data_columns)"
   ]
  },
  {
   "cell_type": "code",
   "execution_count": 290,
   "id": "e6dd9f7b-a369-4f4a-931b-9e1ac5e63913",
   "metadata": {},
   "outputs": [],
   "source": [
    "from decimal import Decimal\n",
    "\n",
    "def KV2Table(df: pd.DataFrame) -> (pd.DataFrame, pd.DataFrame):\n",
    "    \"\"\"\n",
    "    对df进行KV2Table操作\n",
    "        :param1: 需要进行操作的DataFrame\n",
    "\n",
    "        :return1: 操作后产生的输出，DataFrame类型\n",
    "        :return2: 包含列名和列索引以及列数据类型的映射关系表\n",
    "    \"\"\"\n",
    "    # 对原始数据进行分隔处理，以逗号作为分隔符\n",
    "    data_dict = {}\n",
    "    flag = {}\n",
    "    for each in df.values:\n",
    "        raw = each[0].split(\",\")\n",
    "        # 对flag进行初始化，将所有已经存在的flag的值置为False\n",
    "        for key, value in flag.items():\n",
    "            flag.update({key : False})\n",
    "        # 对raw进行操作，冒号分隔，冒号前为列索引，冒号后为数值\n",
    "        for i in raw:\n",
    "            kv_name = \"kv_\" + i.split(\":\")[0]\n",
    "            if kv_name not in data_dict:\n",
    "                data_dict[kv_name] = []\n",
    "                # 对于每行数据，初始化时采用flag标定，保证同样的键值进行加和\n",
    "                flag[kv_name] = False\n",
    "            if flag[kv_name] == True:\n",
    "                data_dict[kv_name][-1] += float(i.split(\":\")[1])\n",
    "            elif flag[kv_name] == False:\n",
    "                data_dict[kv_name].append(float(i.split(\":\")[1]))\n",
    "                flag[kv_name] = True\n",
    "    # 最后采用DataFrame进行输出\n",
    "    res_df = pd.DataFrame(data_dict)\n",
    "    # 根据col_name反构建col_index\n",
    "    cols = []\n",
    "    for columns in res_df.columns:\n",
    "        cols.append(Decimal(columns.replace(\"kv_\", \"\")))\n",
    "    # 构建输出映射表\n",
    "    x_data = {\n",
    "        \"col_name\" : res_df.columns,\n",
    "        \"col_index\" : cols,\n",
    "        \"col_type\" : res_df.dtypes.tolist()\n",
    "    }\n",
    "    x_df = pd.DataFrame(x_data)\n",
    "    return res_df, x_df"
   ]
  },
  {
   "cell_type": "code",
   "execution_count": 291,
   "id": "9e4574b1-c211-41fa-805e-0a0b1378fb71",
   "metadata": {},
   "outputs": [
    {
     "name": "stdout",
     "output_type": "stream",
     "text": [
      "   kv_1  kv_2  kv_3\n",
      "0   1.0   2.0  -3.3\n",
      "1  10.0  20.0 -33.3\n",
      "  col_name col_index col_type\n",
      "0     kv_1         1  float64\n",
      "1     kv_2         2  float64\n",
      "2     kv_3         3  float64\n"
     ]
    }
   ],
   "source": [
    "# 测试用\n",
    "res_df, x_df = KV2Table(df)\n",
    "print(res_df)\n",
    "print(x_df)"
   ]
  },
  {
   "cell_type": "code",
   "execution_count": null,
   "id": "8f5cc24e-4ce7-4a6a-847e-a97a916b4801",
   "metadata": {},
   "outputs": [],
   "source": []
  }
 ],
 "metadata": {
  "kernelspec": {
   "display_name": "Python 3 (ipykernel)",
   "language": "python",
   "name": "python3"
  },
  "language_info": {
   "codemirror_mode": {
    "name": "ipython",
    "version": 3
   },
   "file_extension": ".py",
   "mimetype": "text/x-python",
   "name": "python",
   "nbconvert_exporter": "python",
   "pygments_lexer": "ipython3",
   "version": "3.8.18"
  }
 },
 "nbformat": 4,
 "nbformat_minor": 5
}
