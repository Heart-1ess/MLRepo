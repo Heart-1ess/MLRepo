{
 "cells": [
  {
   "cell_type": "code",
   "execution_count": 1,
   "id": "f3d27f4a",
   "metadata": {},
   "outputs": [],
   "source": [
    "import pandas as pd\n",
    "import numpy as np"
   ]
  },
  {
   "cell_type": "code",
   "execution_count": 3,
   "id": "c4f7d7b1",
   "metadata": {},
   "outputs": [
    {
     "data": {
      "text/html": [
       "<div>\n",
       "<style scoped>\n",
       "    .dataframe tbody tr th:only-of-type {\n",
       "        vertical-align: middle;\n",
       "    }\n",
       "\n",
       "    .dataframe tbody tr th {\n",
       "        vertical-align: top;\n",
       "    }\n",
       "\n",
       "    .dataframe thead th {\n",
       "        text-align: right;\n",
       "    }\n",
       "</style>\n",
       "<table border=\"1\" class=\"dataframe\">\n",
       "  <thead>\n",
       "    <tr style=\"text-align: right;\">\n",
       "      <th></th>\n",
       "      <th>web-scraper-order</th>\n",
       "      <th>web-scraper-start-url</th>\n",
       "      <th>urls</th>\n",
       "      <th>urls-href</th>\n",
       "    </tr>\n",
       "  </thead>\n",
       "  <tbody>\n",
       "    <tr>\n",
       "      <th>0</th>\n",
       "      <td>1699325700-1</td>\n",
       "      <td>https://news.un.org/zh/tags/bayijushi?f[0]=dat...</td>\n",
       "      <td>【巴以冲突第31天】古特雷斯：正在加剧的灾难使人道主义停火迫在眉睫</td>\n",
       "      <td>https://news.un.org/zh/story/2023/11/1123682</td>\n",
       "    </tr>\n",
       "    <tr>\n",
       "      <th>1</th>\n",
       "      <td>1699325700-2</td>\n",
       "      <td>https://news.un.org/zh/tags/bayijushi?f[0]=dat...</td>\n",
       "      <td>【巴以冲突第30天】加沙粮食正在耗尽，粮食署呼吁扩大安全的人道准入</td>\n",
       "      <td>https://news.un.org/zh/story/2023/11/1123672</td>\n",
       "    </tr>\n",
       "    <tr>\n",
       "      <th>2</th>\n",
       "      <td>1699325700-3</td>\n",
       "      <td>https://news.un.org/zh/tags/bayijushi?f[0]=dat...</td>\n",
       "      <td>【巴以冲突第29天】秘书长对加沙救护车队遇袭感到震惊，近东救济工程处学校再遭袭</td>\n",
       "      <td>https://news.un.org/zh/story/2023/11/1123657</td>\n",
       "    </tr>\n",
       "    <tr>\n",
       "      <th>3</th>\n",
       "      <td>1699325700-4</td>\n",
       "      <td>https://news.un.org/zh/tags/bayijushi?f[0]=dat...</td>\n",
       "      <td>【巴以冲突第28天】加沙局势持续恶化，无辜平民付出沉重代价</td>\n",
       "      <td>https://news.un.org/zh/story/2023/11/1123617</td>\n",
       "    </tr>\n",
       "    <tr>\n",
       "      <th>4</th>\n",
       "      <td>1699325700-5</td>\n",
       "      <td>https://news.un.org/zh/tags/bayijushi?f[0]=dat...</td>\n",
       "      <td>【巴以冲突第27天】加沙地带北部援助被切断，死亡人数不断攀升</td>\n",
       "      <td>https://news.un.org/zh/story/2023/11/1123587</td>\n",
       "    </tr>\n",
       "  </tbody>\n",
       "</table>\n",
       "</div>"
      ],
      "text/plain": [
       "  web-scraper-order                              web-scraper-start-url  \\\n",
       "0      1699325700-1  https://news.un.org/zh/tags/bayijushi?f[0]=dat...   \n",
       "1      1699325700-2  https://news.un.org/zh/tags/bayijushi?f[0]=dat...   \n",
       "2      1699325700-3  https://news.un.org/zh/tags/bayijushi?f[0]=dat...   \n",
       "3      1699325700-4  https://news.un.org/zh/tags/bayijushi?f[0]=dat...   \n",
       "4      1699325700-5  https://news.un.org/zh/tags/bayijushi?f[0]=dat...   \n",
       "\n",
       "                                      urls  \\\n",
       "0        【巴以冲突第31天】古特雷斯：正在加剧的灾难使人道主义停火迫在眉睫   \n",
       "1        【巴以冲突第30天】加沙粮食正在耗尽，粮食署呼吁扩大安全的人道准入   \n",
       "2  【巴以冲突第29天】秘书长对加沙救护车队遇袭感到震惊，近东救济工程处学校再遭袭   \n",
       "3            【巴以冲突第28天】加沙局势持续恶化，无辜平民付出沉重代价   \n",
       "4           【巴以冲突第27天】加沙地带北部援助被切断，死亡人数不断攀升   \n",
       "\n",
       "                                      urls-href  \n",
       "0  https://news.un.org/zh/story/2023/11/1123682  \n",
       "1  https://news.un.org/zh/story/2023/11/1123672  \n",
       "2  https://news.un.org/zh/story/2023/11/1123657  \n",
       "3  https://news.un.org/zh/story/2023/11/1123617  \n",
       "4  https://news.un.org/zh/story/2023/11/1123587  "
      ]
     },
     "execution_count": 3,
     "metadata": {},
     "output_type": "execute_result"
    }
   ],
   "source": [
    "df = pd.read_csv('/home/chengyuli/yanshan/data/DataScience/bayijushi_UN.csv')\n",
    "df.head()"
   ]
  },
  {
   "cell_type": "code",
   "execution_count": 4,
   "id": "607c8852",
   "metadata": {},
   "outputs": [
    {
     "data": {
      "text/html": [
       "<div>\n",
       "<style scoped>\n",
       "    .dataframe tbody tr th:only-of-type {\n",
       "        vertical-align: middle;\n",
       "    }\n",
       "\n",
       "    .dataframe tbody tr th {\n",
       "        vertical-align: top;\n",
       "    }\n",
       "\n",
       "    .dataframe thead th {\n",
       "        text-align: right;\n",
       "    }\n",
       "</style>\n",
       "<table border=\"1\" class=\"dataframe\">\n",
       "  <thead>\n",
       "    <tr style=\"text-align: right;\">\n",
       "      <th></th>\n",
       "      <th>web-scraper-order</th>\n",
       "      <th>web-scraper-start-url</th>\n",
       "      <th>urls</th>\n",
       "      <th>urls-href</th>\n",
       "      <th>contents</th>\n",
       "    </tr>\n",
       "  </thead>\n",
       "  <tbody>\n",
       "    <tr>\n",
       "      <th>0</th>\n",
       "      <td>1699325700-1</td>\n",
       "      <td>https://news.un.org/zh/tags/bayijushi?f[0]=dat...</td>\n",
       "      <td>【巴以冲突第31天】古特雷斯：正在加剧的灾难使人道主义停火迫在眉睫</td>\n",
       "      <td>https://news.un.org/zh/story/2023/11/1123682</td>\n",
       "      <td>随着巴以冲突进入第二个月，秘书长古特雷斯今天发表讲话，指出加沙的噩梦不仅仅是一场人道主义危机...</td>\n",
       "    </tr>\n",
       "    <tr>\n",
       "      <th>1</th>\n",
       "      <td>1699325700-2</td>\n",
       "      <td>https://news.un.org/zh/tags/bayijushi?f[0]=dat...</td>\n",
       "      <td>【巴以冲突第30天】加沙粮食正在耗尽，粮食署呼吁扩大安全的人道准入</td>\n",
       "      <td>https://news.un.org/zh/story/2023/11/1123672</td>\n",
       "      <td>冲突伤亡一览 （截至当地时间11月5日，摘自人道协调厅每日情况报告）巴勒斯坦人● 加沙：97...</td>\n",
       "    </tr>\n",
       "    <tr>\n",
       "      <th>2</th>\n",
       "      <td>1699325700-3</td>\n",
       "      <td>https://news.un.org/zh/tags/bayijushi?f[0]=dat...</td>\n",
       "      <td>【巴以冲突第29天】秘书长对加沙救护车队遇袭感到震惊，近东救济工程处学校再遭袭</td>\n",
       "      <td>https://news.un.org/zh/story/2023/11/1123657</td>\n",
       "      <td>联合国秘书长古特雷斯周五深夜发表声明，对加沙希法医院外一救护车车队遭到袭击的报道感到震惊。他...</td>\n",
       "    </tr>\n",
       "    <tr>\n",
       "      <th>3</th>\n",
       "      <td>1699325700-4</td>\n",
       "      <td>https://news.un.org/zh/tags/bayijushi?f[0]=dat...</td>\n",
       "      <td>【巴以冲突第28天】加沙局势持续恶化，无辜平民付出沉重代价</td>\n",
       "      <td>https://news.un.org/zh/story/2023/11/1123617</td>\n",
       "      <td>随着以色列大规模轰炸的继续，加沙局势持续恶化，联合国人道救援团队计划为支持巴勒斯坦人民发出新...</td>\n",
       "    </tr>\n",
       "    <tr>\n",
       "      <th>4</th>\n",
       "      <td>1699325700-5</td>\n",
       "      <td>https://news.un.org/zh/tags/bayijushi?f[0]=dat...</td>\n",
       "      <td>【巴以冲突第27天】加沙地带北部援助被切断，死亡人数不断攀升</td>\n",
       "      <td>https://news.un.org/zh/story/2023/11/1123587</td>\n",
       "      <td>以色列对加沙城附近人口稠密的贾巴利亚难民营发动空袭后，加沙的死亡人数已超过9000人，而一家...</td>\n",
       "    </tr>\n",
       "  </tbody>\n",
       "</table>\n",
       "</div>"
      ],
      "text/plain": [
       "  web-scraper-order                              web-scraper-start-url  \\\n",
       "0      1699325700-1  https://news.un.org/zh/tags/bayijushi?f[0]=dat...   \n",
       "1      1699325700-2  https://news.un.org/zh/tags/bayijushi?f[0]=dat...   \n",
       "2      1699325700-3  https://news.un.org/zh/tags/bayijushi?f[0]=dat...   \n",
       "3      1699325700-4  https://news.un.org/zh/tags/bayijushi?f[0]=dat...   \n",
       "4      1699325700-5  https://news.un.org/zh/tags/bayijushi?f[0]=dat...   \n",
       "\n",
       "                                      urls  \\\n",
       "0        【巴以冲突第31天】古特雷斯：正在加剧的灾难使人道主义停火迫在眉睫   \n",
       "1        【巴以冲突第30天】加沙粮食正在耗尽，粮食署呼吁扩大安全的人道准入   \n",
       "2  【巴以冲突第29天】秘书长对加沙救护车队遇袭感到震惊，近东救济工程处学校再遭袭   \n",
       "3            【巴以冲突第28天】加沙局势持续恶化，无辜平民付出沉重代价   \n",
       "4           【巴以冲突第27天】加沙地带北部援助被切断，死亡人数不断攀升   \n",
       "\n",
       "                                      urls-href  \\\n",
       "0  https://news.un.org/zh/story/2023/11/1123682   \n",
       "1  https://news.un.org/zh/story/2023/11/1123672   \n",
       "2  https://news.un.org/zh/story/2023/11/1123657   \n",
       "3  https://news.un.org/zh/story/2023/11/1123617   \n",
       "4  https://news.un.org/zh/story/2023/11/1123587   \n",
       "\n",
       "                                            contents  \n",
       "0  随着巴以冲突进入第二个月，秘书长古特雷斯今天发表讲话，指出加沙的噩梦不仅仅是一场人道主义危机...  \n",
       "1  冲突伤亡一览 （截至当地时间11月5日，摘自人道协调厅每日情况报告）巴勒斯坦人● 加沙：97...  \n",
       "2  联合国秘书长古特雷斯周五深夜发表声明，对加沙希法医院外一救护车车队遭到袭击的报道感到震惊。他...  \n",
       "3  随着以色列大规模轰炸的继续，加沙局势持续恶化，联合国人道救援团队计划为支持巴勒斯坦人民发出新...  \n",
       "4  以色列对加沙城附近人口稠密的贾巴利亚难民营发动空袭后，加沙的死亡人数已超过9000人，而一家...  "
      ]
     },
     "execution_count": 4,
     "metadata": {},
     "output_type": "execute_result"
    }
   ],
   "source": [
    "import requests\n",
    "from bs4 import BeautifulSoup as bs\n",
    "contents = []\n",
    "for each in df['urls-href']:\n",
    "    resp = requests.get(each)\n",
    "    soup = bs(resp.text, \"lxml\")\n",
    "    txt = soup.findAll('p')\n",
    "    content = ''\n",
    "    for each in txt:\n",
    "        if each.string:\n",
    "            content += each.string\n",
    "    contents.append(content)\n",
    "df['contents'] = contents\n",
    "df.head()"
   ]
  },
  {
   "cell_type": "code",
   "execution_count": 5,
   "id": "ed69001e",
   "metadata": {},
   "outputs": [],
   "source": [
    "df.to_csv(\"/home/chengyuli/yanshan/data/DataScience/UN_raw.csv\", index=False)"
   ]
  },
  {
   "cell_type": "code",
   "execution_count": null,
   "metadata": {},
   "outputs": [],
   "source": []
  }
 ],
 "metadata": {
  "kernelspec": {
   "display_name": "MachineLearning",
   "language": "python",
   "name": "ml"
  },
  "language_info": {
   "codemirror_mode": {
    "name": "ipython",
    "version": 3
   },
   "file_extension": ".py",
   "mimetype": "text/x-python",
   "name": "python",
   "nbconvert_exporter": "python",
   "pygments_lexer": "ipython3",
   "version": "3.8.18"
  },
  "varInspector": {
   "cols": {
    "lenName": 16,
    "lenType": 16,
    "lenVar": 40
   },
   "kernels_config": {
    "python": {
     "delete_cmd_postfix": "",
     "delete_cmd_prefix": "del ",
     "library": "var_list.py",
     "varRefreshCmd": "print(var_dic_list())"
    },
    "r": {
     "delete_cmd_postfix": ") ",
     "delete_cmd_prefix": "rm(",
     "library": "var_list.r",
     "varRefreshCmd": "cat(var_dic_list()) "
    }
   },
   "types_to_exclude": [
    "module",
    "function",
    "builtin_function_or_method",
    "instance",
    "_Feature"
   ],
   "window_display": false
  }
 },
 "nbformat": 4,
 "nbformat_minor": 5
}
