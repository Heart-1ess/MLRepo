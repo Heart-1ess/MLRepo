{
 "cells": [
  {
   "cell_type": "markdown",
   "metadata": {
    "colab_type": "text",
    "id": "MqXah3GAjj0E"
   },
   "source": [
    "# MLNet  \n",
    "\n",
    "#### Implementation of Deep Multi-level Network for Saliency in Pytorch\n",
    "\n",
    "#### Paper : Marcella Cornia, Lorenzo Baraldi, Giuseppe Serra, Rita Cucchiara. \"A Deep Multi-Level Network for Saliency Prediction.\" In Proceedings of the 23rd International Conference on Pattern Recognition, 2016.\n",
    "\n",
    "#### Reference Code : [link text](https://github.com/marcellacornia/mlnet)"
   ]
  },
  {
   "cell_type": "markdown",
   "metadata": {
    "colab_type": "text",
    "id": "AqzJAUOGocqN"
   },
   "source": [
    "## 0. Downloading Data "
   ]
  },
  {
   "cell_type": "markdown",
   "metadata": {
    "colab_type": "text",
    "id": "dk-y5y_vC8OL"
   },
   "source": [
    "### 0.0 Downloading Salicon Dataset which was used in Paper for training and benchmarking.\n",
    "\n",
    "### linke : http://salicon.net/\n",
    "\n",
    "\n",
    "---\n",
    "\n",
    "\n",
    "\n",
    "### Short Information about Dataset:\n",
    "\n",
    "Dataset contains total of 20,000 Images. Dataset is splited into 3 parts. Train, Validation and Testing containing 10,000 , 5,000 and 5,000 respectively. Saliency Map of Train and Validation is giving. For testing we have to upload result to coda lab which will evalute our prediction maps agianst groud truth and gives score. More information about Dataset and Codalab challenge can be found at http://salicon.net/challenge-2017/.\n",
    " \n",
    " \n",
    " "
   ]
  },
  {
   "cell_type": "code",
   "execution_count": 0,
   "metadata": {
    "colab": {},
    "colab_type": "code",
    "id": "LjYnvpkilL8N"
   },
   "outputs": [],
   "source": [
    "# Data Downloading from salicon dataset\n",
    "!wget http://lsun.cs.princeton.edu/challenge/2015/eyetracking_salicon/data/image.zip\n",
    "# unzipping data\n",
    "!unzip image.zip > unzipping.log\n",
    "!ls images | head -5\n",
    "\n",
    "# installing gdown\n",
    "# Reference : https://stackoverflow.com/questions/25010369/wget-curl-large-file-from-google-drive\n",
    "! pip install gdown\n",
    "\n",
    "# Dowloading Ground Truth\n",
    "! gdown https://drive.google.com/uc?id=0B2hsWbciDVedNWJZMlRxeW1PY1U&export=download\n",
    "  \n",
    "# unzipping maps (ground truth)\n",
    "! unzip maps.zip > unzipping_maps.log\n",
    "\n",
    "# unzipping creates two folders containing saliency maps\n",
    "#  1. train\n",
    "#  2. test\n",
    "!ls train | head -5"
   ]
  },
  {
   "cell_type": "markdown",
   "metadata": {
    "colab_type": "text",
    "id": "wUzj_PvjEX7P"
   },
   "source": [
    "### 0.1 Organizing Data Into Folder\n",
    "  \n",
    "\n",
    "---\n",
    "**images**\n",
    "> contains training Images  (Input)\n",
    "\n",
    "**val_images** \n",
    "> contains validation Images (Input)\n",
    "\n",
    "**test_images**\n",
    "> contains Test-set Images (Input)\n",
    "\n",
    "**train**\n",
    "> contains Ground Truth Saliency Map for training Images in Folder \"images\" (Output)\n",
    "\n",
    "**val**\n",
    "> contains Ground Truth Saliency Map for validation Images in Folder \"val_images\" (Output)"
   ]
  },
  {
   "cell_type": "code",
   "execution_count": 0,
   "metadata": {
    "colab": {},
    "colab_type": "code",
    "id": "Bcsv4JS91FOA"
   },
   "outputs": [],
   "source": [
    "# moving testing data to another dir\n",
    "import os\n",
    "import shutil\n",
    "\n",
    "images_files  = os.listdir('images')\n",
    "print (\"Total Number of Images: {}\".format(len(images_files)))\n",
    "\n",
    "!mkdir test_images\n",
    "!mkdir val_images\n",
    "\n",
    "cnt = 0\n",
    "\n",
    "for f in images_files:\n",
    "  if 'test' in f:\n",
    "    shutil.move('images/'+f,'test_images/')\n",
    "  elif 'val' in f:\n",
    "    shutil.move('images/'+f,'val_images/')\n",
    "    \n",
    "\n",
    "! ls test_images | head -5\n",
    "! ls val_images | head -5"
   ]
  },
  {
   "cell_type": "code",
   "execution_count": 0,
   "metadata": {
    "colab": {},
    "colab_type": "code",
    "id": "NYM1hbnn9K0E"
   },
   "outputs": [],
   "source": [
    "print (\"Total Train Images: {}\".format(len(os.listdir('images/'))))\n",
    "print (\"Total Valid Images: {}\".format(len(os.listdir('val_images/'))))\n",
    "print (\"Total Test Images: {}\".format(len(os.listdir('test_images/'))))"
   ]
  },
  {
   "cell_type": "markdown",
   "metadata": {
    "colab_type": "text",
    "id": "W08B04x3or2k"
   },
   "source": [
    "## 1. Pre-processing Function and Generator\n"
   ]
  },
  {
   "cell_type": "markdown",
   "metadata": {
    "colab_type": "text",
    "id": "hF7_WYWRHQT-"
   },
   "source": [
    "### 1.0 Pre-processing Function\n",
    "\n",
    "**Pre-Process Images**: Converts Input Images to 4:3 ration and use padding function for padding zeros. and it also pre-process for VGG-16 Architure substracting Mean from all channels.\n",
    "\n",
    "**Pre-Process Maps**: Converts Output Images (Saliency Maps) to 4:3 ration and use padding function for padding zeros. and it also convert gray scale range of 0-255 to 0-1.\n",
    "\n",
    "Note: pre-process, pre-process maps and padding are taken from reference code."
   ]
  },
  {
   "cell_type": "code",
   "execution_count": 0,
   "metadata": {
    "colab": {},
    "colab_type": "code",
    "id": "JIxmTdqXn6fZ"
   },
   "outputs": [],
   "source": [
    "import cv2\n",
    "import numpy as np \n",
    "\n",
    "def padding(img, shape_r=480, shape_c=640, channels=3):\n",
    "    img_padded = np.zeros((shape_r, shape_c, channels), dtype=np.uint8)\n",
    "    if channels == 1:\n",
    "        img_padded = np.zeros((shape_r, shape_c), dtype=np.uint8)\n",
    "\n",
    "    original_shape = img.shape\n",
    "    rows_rate = original_shape[0]/shape_r\n",
    "    cols_rate = original_shape[1]/shape_c\n",
    "\n",
    "    if rows_rate > cols_rate:\n",
    "        new_cols = (original_shape[1] * shape_r) // original_shape[0]\n",
    "        img = cv2.resize(img, (new_cols, shape_r))\n",
    "        if new_cols > shape_c:\n",
    "            new_cols = shape_c\n",
    "        img_padded[:, ((img_padded.shape[1] - new_cols) // 2):((img_padded.shape[1] - new_cols) // 2 + new_cols)] = img\n",
    "    else:\n",
    "        new_rows = (original_shape[0] * shape_c) // original_shape[1]\n",
    "        img = cv2.resize(img, (shape_c, new_rows))\n",
    "        if new_rows > shape_r:\n",
    "            new_rows = shape_r\n",
    "        img_padded[((img_padded.shape[0] - new_rows) // 2):((img_padded.shape[0] - new_rows) // 2 + new_rows), :] = img\n",
    "\n",
    "    return img_padded\n",
    "\n",
    "\n",
    "def preprocess_images(paths, shape_r, shape_c):\n",
    "    ims = np.zeros((len(paths), shape_r, shape_c, 3))\n",
    "\n",
    "    for i, path in enumerate(paths):\n",
    "        original_image = cv2.imread(path)\n",
    "        padded_image = padding(original_image, shape_r, shape_c, 3)\n",
    "        ims[i] = padded_image.astype('float')\n",
    "    \n",
    "#     cv2 : BGR\n",
    "#     PIL : RGB\n",
    "    ims = ims[...,::-1]\n",
    "    ims /= 255.0\n",
    "    ims = np.rollaxis(ims, 3, 1)  \n",
    "    return ims\n",
    "\n",
    "\n",
    "def preprocess_maps(paths, shape_r, shape_c):\n",
    "    ims = np.zeros((len(paths), 1, shape_r, shape_c))\n",
    "\n",
    "    for i, path in enumerate(paths):\n",
    "        original_map = cv2.imread(path, 0)\n",
    "        padded_map = padding(original_map, shape_r, shape_c, 1)\n",
    "        ims[i, 0] = padded_map.astype(np.float32)\n",
    "        ims[i, 0] /= 255.0\n",
    "        \n",
    "\n",
    "    return ims"
   ]
  },
  {
   "cell_type": "markdown",
   "metadata": {
    "colab_type": "text",
    "id": "aHUybGNzHNW5"
   },
   "source": [
    "### 1.1 Generator\n",
    "\n",
    "**generator**: It is used to supply images during training/testing with specified batch sizes. Function is modified from reference code. Shuffle and breaking condition of loop is added."
   ]
  },
  {
   "cell_type": "code",
   "execution_count": 0,
   "metadata": {
    "colab": {},
    "colab_type": "code",
    "id": "3Td9bdophNQs"
   },
   "outputs": [],
   "source": [
    "import os \n",
    "from sklearn.utils import shuffle\n",
    "\n",
    "imgs_train_path = 'images/'\n",
    "maps_train_path = 'train/'\n",
    "\n",
    "imgs_val_path = 'val_images/'\n",
    "maps_val_path = 'val/'\n",
    "\n",
    "\n",
    "\n",
    "def generator(b_s, phase_gen='train'):\n",
    "    if phase_gen == 'train':\n",
    "        images = [imgs_train_path + f for f in os.listdir(imgs_train_path) if f.endswith('.jpg')]\n",
    "        maps = [maps_train_path + f for f in os.listdir(maps_train_path) if f.endswith('.png')]\n",
    "    elif phase_gen == 'val':\n",
    "        images = [imgs_val_path + f for f in os.listdir(imgs_val_path) if f.endswith('.jpg')]\n",
    "        maps = [maps_val_path + f for f in os.listdir(maps_val_path) if f.endswith('.png')]\n",
    "    else:\n",
    "        raise NotImplementedError\n",
    "\n",
    "    images.sort()\n",
    "    maps.sort()\n",
    "    \n",
    "    images , maps = shuffle(images,maps)\n",
    "    \n",
    "    counter = 0\n",
    "    \n",
    "    while True:\n",
    "        yield preprocess_images(images[counter:counter + b_s], shape_r, shape_c), preprocess_maps(maps[counter:counter + b_s], shape_r_gt, shape_c_gt)\n",
    "        if counter + b_s >= len(images):\n",
    "          break\n",
    "        counter = counter + b_s"
   ]
  },
  {
   "cell_type": "markdown",
   "metadata": {
    "colab_type": "text",
    "id": "cSC0rytdo_kg"
   },
   "source": [
    "## 2. Defining Model and Loss Function"
   ]
  },
  {
   "cell_type": "markdown",
   "metadata": {
    "colab_type": "text",
    "id": "cV3BMhfKLkAQ"
   },
   "source": [
    "### 2.1 Installing PyTorch"
   ]
  },
  {
   "cell_type": "code",
   "execution_count": 0,
   "metadata": {
    "colab": {},
    "colab_type": "code",
    "id": "v1-vcw1so-m6"
   },
   "outputs": [],
   "source": [
    "# installing pytorch and pytorch vision\n",
    "!pip3 install torchvision"
   ]
  },
  {
   "cell_type": "markdown",
   "metadata": {
    "colab_type": "text",
    "id": "GojPzAz3Lnxo"
   },
   "source": [
    "### 2.2 Defining Model\n",
    "\n",
    "More Detail of Model in Paper : https://arxiv.org/abs/1609.01064\n",
    "\n",
    "![Model](https://raw.githubusercontent.com/marcellacornia/mlnet/master/figs/mlnet.jpg)"
   ]
  },
  {
   "cell_type": "code",
   "execution_count": 0,
   "metadata": {
    "colab": {},
    "colab_type": "code",
    "id": "jrzCqMe3pyFM"
   },
   "outputs": [],
   "source": [
    "import torch\n",
    "import torch.nn as nn\n",
    "import torchvision.models as models\n",
    "\n",
    "\n",
    "class MLNet(nn.Module):\n",
    "    \n",
    "    def __init__(self,prior_size):\n",
    "        super(MLNet, self).__init__()\n",
    "        # loading pre-trained vgg16 model and         \n",
    "        # removing last max pooling layer\n",
    "        features = list(models.vgg16(pretrained = True).features)[:-1]\n",
    "        \n",
    "        # making same spatial size\n",
    "        # by calculation :) \n",
    "        # in pytorch there was problem outputing same size in maxpool2d\n",
    "        features[23].stride = 1\n",
    "        features[23].kernel_size = 5\n",
    "        features[23].padding = 2\n",
    "                \n",
    "        self.features = nn.ModuleList(features).eval() \n",
    "        # adding dropout layer\n",
    "        self.fddropout = nn.Dropout2d(p=0.5)\n",
    "        # adding convolution layer to down number of filters 1280 ==> 64\n",
    "        self.int_conv = nn.Conv2d(1280,64,kernel_size=(3, 3), stride=(1, 1), padding=(1, 1))\n",
    "        self.pre_final_conv = nn.Conv2d(64,1,kernel_size=(1, 1), stride=(1, 1) ,padding=(0, 0))\n",
    "        # prior initialized to ones\n",
    "        self.prior = nn.Parameter(torch.ones((1,1,prior_size[0],prior_size[1]), requires_grad=True))\n",
    "        \n",
    "        # bilinear upsampling layer\n",
    "        self.bilinearup = torch.nn.UpsamplingBilinear2d(scale_factor=10)\n",
    "        \n",
    "    def forward(self, x):\n",
    "        \n",
    "        results = []\n",
    "        for ii,model in enumerate(self.features):\n",
    "            x = model(x)\n",
    "            if ii in {16,23,29}:\n",
    "                results.append(x)\n",
    "        \n",
    "        # concat to get 1280 = 512 + 512 + 256\n",
    "        x = torch.cat((results[0],results[1],results[2]),1) \n",
    "        \n",
    "        # adding dropout layer with dropout set to 0.5 (default)\n",
    "        x = self.fddropout(x)\n",
    "        \n",
    "        # 64 filters convolution layer\n",
    "        x = self.int_conv(x)\n",
    "        # 1*1 convolution layer\n",
    "        x = self.pre_final_conv(x)\n",
    "        \n",
    "        upscaled_prior = self.bilinearup(self.prior)\n",
    "        # print (\"upscaled_prior shape: {}\".format(upscaled_prior.shape))\n",
    "\n",
    "        # dot product with prior\n",
    "        x = x * upscaled_prior\n",
    "        x = torch.nn.functional.relu(x,inplace=True)\n",
    "        return x\n"
   ]
  },
  {
   "cell_type": "markdown",
   "metadata": {
    "colab_type": "text",
    "id": "NxuCG8B6MpEd"
   },
   "source": [
    "### 2.3 Defining Custom Loss function derived From MSE Loss"
   ]
  },
  {
   "cell_type": "code",
   "execution_count": 0,
   "metadata": {
    "colab": {},
    "colab_type": "code",
    "id": "LhBxYsvb0BXC"
   },
   "outputs": [],
   "source": [
    "# Modified MSE Loss Function\n",
    "class ModMSELoss(torch.nn.Module):\n",
    "    def __init__(self,shape_r_gt,shape_c_gt):\n",
    "        super(ModMSELoss, self).__init__()\n",
    "        self.shape_r_gt = shape_r_gt\n",
    "        self.shape_c_gt = shape_c_gt\n",
    "        \n",
    "    def forward(self, output , label , prior):\n",
    "        prior_size = prior.shape\n",
    "        output_max = torch.max(torch.max(output,2)[0],2)[0].unsqueeze(2).unsqueeze(2).expand(output.shape[0],output.shape[1],self.shape_r_gt,self.shape_c_gt)\n",
    "        reg = ( 1.0/(prior_size[0]*prior_size[1]) ) * ( 1 - prior)**2\n",
    "        loss = torch.mean( ((output / output_max) - label)**2 / (1 - label + 0.1) )  +  torch.sum(reg)\n",
    "        return loss"
   ]
  },
  {
   "cell_type": "markdown",
   "metadata": {
    "colab_type": "text",
    "id": "L67bssepBflY"
   },
   "source": [
    "## 3. Training Model"
   ]
  },
  {
   "cell_type": "markdown",
   "metadata": {
    "colab_type": "text",
    "id": "1lsVWtq7Rdj3"
   },
   "source": [
    "#### Memory Warning: \n",
    "\n",
    "This model require huge amount of memory. Paper doesn't freeze any layer and uses configratution of Image size = (480,640) , batch_size = 10.\n",
    "Training with default configration result into cuda out of memory (12 GB of GPU RAM).\n",
    "\n",
    "To tackle this problem, I have tried to train model on two variant.\n",
    "> 1.\n",
    "\n",
    "       shape_r = 240 ==> shape_r_gt = 30\n",
    "       shape_c = 320 ==> shape_c_gt = 40\n",
    "       batch_size = 16\n",
    "       last_freeze_layer = 23\n",
    "> 2.\n",
    "\n",
    "       shape_r = 480 ==> shape_r_gt = 60\n",
    "       shape_c = 640 ==> shape_c_gt = 80\n",
    "       batch_size = 16\n",
    "       last_freeze_layer = 28\n",
    "       \n",
    "       \n",
    "**Note : Second Approch didn't perform well.**\n",
    "\n",
    "#### Prior Size:\n",
    "\n",
    "prior size (w',h') where w' << w and h' << h as mentioned in paper where w,h are width and height of output.\n",
    "\n",
    "**w' =  w  / 10**\n",
    "\n",
    "**h'  =  h  / 10**\n"
   ]
  },
  {
   "cell_type": "code",
   "execution_count": 0,
   "metadata": {
    "colab": {},
    "colab_type": "code",
    "id": "fsnFIGwPRJ4X"
   },
   "outputs": [],
   "source": [
    "# Input Images size\n",
    "shape_r = 240\n",
    "shape_c = 320\n",
    "# shape_r = 480\n",
    "# shape_c = 640\n",
    "\n",
    "# Output Image size (generally divided by 8 from Input size)\n",
    "shape_r_gt = 30\n",
    "shape_c_gt = 40\n",
    "# shape_r_gt = 60\n",
    "# shape_c_gt = 80\n",
    "\n",
    "\n",
    "last_freeze_layer = 23\n",
    "# last_freeze_layer = 28"
   ]
  },
  {
   "cell_type": "code",
   "execution_count": 0,
   "metadata": {
    "colab": {},
    "colab_type": "code",
    "id": "7qbZC28MdPK1"
   },
   "outputs": [],
   "source": [
    "prior_size = ( int(shape_r_gt / 10) , int(shape_c_gt / 10) )\n",
    "\n",
    "model = MLNet(prior_size).cuda()\n",
    "\n",
    "\n",
    "# freezing Layer\n",
    "for i,param in enumerate(model.parameters()):\n",
    "  if i < last_freeze_layer:\n",
    "    param.requires_grad = False\n",
    "\n",
    "    \n",
    "criterion = ModMSELoss(shape_r_gt,shape_c_gt).cuda()\n",
    "\n",
    "# optimizer = torch.optim.SGD(model.parameters(), lr=1e-3,weight_decay=0.0005,momentum=0.9,nesterov=True)\n",
    "optimizer = torch.optim.Adam(model.parameters(), lr=1e-3,weight_decay=1e-4)"
   ]
  },
  {
   "cell_type": "code",
   "execution_count": 0,
   "metadata": {
    "colab": {},
    "colab_type": "code",
    "id": "r4wrJnCdWsQJ"
   },
   "outputs": [],
   "source": [
    "\n",
    "# mean = [0.485, 0.456, 0.406]\n",
    "# std = [0.229, 0.224, 0.225]\n",
    "import time\n",
    "import torchvision.transforms as transforms\n",
    "normalize = transforms.Normalize(mean=[0.485, 0.456, 0.406],\n",
    "                                 std=[0.229, 0.224, 0.225])\n",
    "\n",
    "loss_history = []\n",
    "nb_epochs = 10\n",
    "batch_size = 16\n",
    "\n",
    "for epoch in range(nb_epochs):\n",
    "  t1 = time.time()\n",
    "  image_trained = 0\n",
    "  \n",
    "  for i,gt_map in generator(batch_size):\n",
    "        \n",
    "      optimizer.zero_grad()\n",
    "#       print (i.shape)\n",
    "\n",
    "      i,gt_map = torch.tensor(i.copy(),dtype=torch.float),torch.tensor(gt_map,dtype=torch.float)\n",
    "      for idx,x in enumerate(i):\n",
    "        i[idx] = normalize(x)   \n",
    "      i,gt_map = i.cuda(),gt_map.cuda()\n",
    "            \n",
    "      image_trained += batch_size\n",
    "   \n",
    "      out = model.forward(i)\n",
    "      loss = criterion(out,gt_map,model.prior.clone())\n",
    "      loss.backward()\n",
    "      optimizer.step()\n",
    "    \n",
    "      if image_trained % (batch_size*20) == 0:\n",
    "        print (\"Epcohs:{} Images:{} Loss:{}\".format(epoch,image_trained,loss.item()) )\n",
    "  t2 = time.time()\n",
    "  time_per_epoch = (t2 - t1) / 60.0\n",
    "  print ('Time taken for epoch-{} : {}m'.format(epoch,time_per_epoch))"
   ]
  },
  {
   "cell_type": "markdown",
   "metadata": {
    "colab_type": "text",
    "id": "QgeWfu5yBnBU"
   },
   "source": [
    "## 4. Visualizing Model Output  and Saving Model Weights"
   ]
  },
  {
   "cell_type": "markdown",
   "metadata": {
    "colab_type": "text",
    "id": "jRB-R-s1Pi1F"
   },
   "source": [
    "### 4.0 Visualizing Model output on Validation Images\n",
    "Note :Each Time running code will output different Image visualization "
   ]
  },
  {
   "cell_type": "code",
   "execution_count": 0,
   "metadata": {
    "colab": {},
    "colab_type": "code",
    "id": "sMhGnQ8p6P7n"
   },
   "outputs": [],
   "source": [
    "# loading saved model to visualize\n",
    "# !gdown https://drive.google.com/uc?id=1vhA5Uc547nZL0rI9IsHWEbhx2j-oSnrn&export=download\n",
    "# PATH = \"2018-10-04 09_20_57.364231_5_epochs_v1.model\"\n",
    "# model.load_state_dict(torch.load(PATH))"
   ]
  },
  {
   "cell_type": "code",
   "execution_count": 0,
   "metadata": {
    "colab": {},
    "colab_type": "code",
    "id": "iPi75x-zCcZ8"
   },
   "outputs": [],
   "source": [
    "import matplotlib.pyplot as plt\n",
    "\n",
    "# how many pic you want to visualiz at randomly\n",
    "no_visual = 15\n",
    "\n",
    "\n",
    "visual_cnt = 0\n",
    "for i,gt_map in generator(1,phase_gen='val'):\n",
    "    print (\"Original\")\n",
    "    org_image = i[0].copy()\n",
    "    \n",
    "    org_image = np.rollaxis(org_image, 0, 3) \n",
    "    print (org_image.shape)\n",
    "    i = torch.tensor(i.copy(),dtype=torch.float)\n",
    "    for idx,x in enumerate(i):\n",
    "        i[idx] = normalize(x)\n",
    "    i = i.cuda()\n",
    "    out = model.forward(i)\n",
    "    # adding term which were subtracted at pre processing\n",
    "    plt.imshow(org_image)\n",
    "    plt.show()\n",
    "    print (\"predicted\")\n",
    "    plt.imshow(out[0].squeeze(0).data.cpu().numpy(),cmap='gray')\n",
    "    plt.show()\n",
    "    print (\"Original\")\n",
    "    plt.imshow(gt_map[0][0],cmap='gray')\n",
    "    plt.show()\n",
    "    visual_cnt += 1\n",
    "    if visual_cnt > no_visual:\n",
    "      break"
   ]
  },
  {
   "cell_type": "markdown",
   "metadata": {
    "colab_type": "text",
    "id": "IFlU0IOnQkbB"
   },
   "source": [
    "### 4.1 Saving Model\n",
    "\n",
    "Note: Weight file can be downloaded using File section at left."
   ]
  },
  {
   "cell_type": "code",
   "execution_count": 0,
   "metadata": {
    "colab": {},
    "colab_type": "code",
    "id": "5rbDIbZdGf0o"
   },
   "outputs": [],
   "source": [
    "# creatin Dir for saving model\n",
    "!mkdir saved_models -p\n",
    "\n",
    "\n",
    "import time\n",
    "import datetime\n",
    "\n",
    "# saving model weight\n",
    "additional_info = '25_epochs_v3'\n",
    "full_path = 'saved_models/' + str(datetime.datetime.now()) + '_' + additional_info + '.model'\n",
    "torch.save(model.state_dict(), full_path)\n",
    "\n",
    "# for loading Model\n",
    "# model.load_state_dict(torch.load(PATH))\n"
   ]
  },
  {
   "cell_type": "code",
   "execution_count": 0,
   "metadata": {
    "colab": {},
    "colab_type": "code",
    "id": "_lwx1RGVjsrJ"
   },
   "outputs": [],
   "source": [
    "from google.colab import files\n",
    "files.download(full_path)"
   ]
  },
  {
   "cell_type": "markdown",
   "metadata": {
    "colab_type": "text",
    "id": "kzp1rQ9tBxsd"
   },
   "source": [
    "## 5. Creating Submission.zip for submitting to CodaLab"
   ]
  },
  {
   "cell_type": "code",
   "execution_count": 0,
   "metadata": {
    "colab": {},
    "colab_type": "code",
    "id": "CspRk5Pkok9n"
   },
   "outputs": [],
   "source": [
    "# creating dir for storing prediction of test images\n",
    "! mkdir test_maps"
   ]
  },
  {
   "cell_type": "code",
   "execution_count": 0,
   "metadata": {
    "colab": {},
    "colab_type": "code",
    "id": "zzpGsdynmWJj"
   },
   "outputs": [],
   "source": [
    "test_file = [ f for f in os.listdir('test_images/') if f.endswith('.jpg') ]\n",
    "\n",
    "for i in test_file:\n",
    "    img = preprocess_images(['test_images/'+i],shape_r,shape_c)\n",
    "    img = torch.tensor(img.copy(),dtype=torch.float)\n",
    "    for idx,x in enumerate(img):\n",
    "        img[idx] = normalize(x)\n",
    "    img = img.cuda()\n",
    "    pred = model.forward(img)\n",
    "    cv2.imwrite('test_maps/' + i[:-3] + 'png',pred[0].squeeze(0).data.cpu().numpy())"
   ]
  },
  {
   "cell_type": "code",
   "execution_count": 0,
   "metadata": {
    "colab": {},
    "colab_type": "code",
    "id": "Yax5DZF2udC6"
   },
   "outputs": [],
   "source": [
    "# generatung Submission.zip \n",
    "! cd test_maps ; zip ../submission.zip *.png > zipping.log"
   ]
  }
 ],
 "metadata": {
  "accelerator": "GPU",
  "colab": {
   "collapsed_sections": [],
   "name": "MLNet_Pytorch.ipynb",
   "provenance": [],
   "toc_visible": true,
   "version": "0.3.2"
  },
  "kernelspec": {
   "display_name": "MachineLearning",
   "language": "python",
   "name": "ml"
  },
  "language_info": {
   "codemirror_mode": {
    "name": "ipython",
    "version": 3
   },
   "file_extension": ".py",
   "mimetype": "text/x-python",
   "name": "python",
   "nbconvert_exporter": "python",
   "pygments_lexer": "ipython3",
   "version": "3.8.18"
  },
  "varInspector": {
   "cols": {
    "lenName": 16,
    "lenType": 16,
    "lenVar": 40
   },
   "kernels_config": {
    "python": {
     "delete_cmd_postfix": "",
     "delete_cmd_prefix": "del ",
     "library": "var_list.py",
     "varRefreshCmd": "print(var_dic_list())"
    },
    "r": {
     "delete_cmd_postfix": ") ",
     "delete_cmd_prefix": "rm(",
     "library": "var_list.r",
     "varRefreshCmd": "cat(var_dic_list()) "
    }
   },
   "types_to_exclude": [
    "module",
    "function",
    "builtin_function_or_method",
    "instance",
    "_Feature"
   ],
   "window_display": false
  }
 },
 "nbformat": 4,
 "nbformat_minor": 1
}
